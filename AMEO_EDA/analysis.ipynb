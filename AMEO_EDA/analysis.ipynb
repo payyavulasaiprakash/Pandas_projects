{
 "cells": [
  {
   "attachments": {},
   "cell_type": "markdown",
   "metadata": {},
   "source": [
    "Import the data and display the head, shape and description of the data."
   ]
  },
  {
   "cell_type": "code",
   "execution_count": 2,
   "metadata": {},
   "outputs": [],
   "source": [
    "\n",
    "import pandas as pd\n",
    "import numpy as np\n",
    "import matplotlib.pylab as plt\n",
    "\n",
    "file_path='aspiring_minds_employability_outcomes_2015.xlsx'\n",
    "dataset=pd.read_excel(file_path)"
   ]
  },
  {
   "cell_type": "code",
   "execution_count": 3,
   "metadata": {},
   "outputs": [
    {
     "data": {
      "text/plain": [
       "(3998, 38)"
      ]
     },
     "execution_count": 3,
     "metadata": {},
     "output_type": "execute_result"
    }
   ],
   "source": [
    "dataset.shape"
   ]
  },
  {
   "cell_type": "code",
   "execution_count": 4,
   "metadata": {},
   "outputs": [
    {
     "data": {
      "text/html": [
       "<div>\n",
       "<style scoped>\n",
       "    .dataframe tbody tr th:only-of-type {\n",
       "        vertical-align: middle;\n",
       "    }\n",
       "\n",
       "    .dataframe tbody tr th {\n",
       "        vertical-align: top;\n",
       "    }\n",
       "\n",
       "    .dataframe thead th {\n",
       "        text-align: right;\n",
       "    }\n",
       "</style>\n",
       "<table border=\"1\" class=\"dataframe\">\n",
       "  <thead>\n",
       "    <tr style=\"text-align: right;\">\n",
       "      <th></th>\n",
       "      <th>ID</th>\n",
       "      <th>Salary</th>\n",
       "      <th>DOJ</th>\n",
       "      <th>DOL</th>\n",
       "      <th>Designation</th>\n",
       "      <th>JobCity</th>\n",
       "      <th>Gender</th>\n",
       "      <th>DOB</th>\n",
       "      <th>10percentage</th>\n",
       "      <th>10board</th>\n",
       "      <th>...</th>\n",
       "      <th>ComputerScience</th>\n",
       "      <th>MechanicalEngg</th>\n",
       "      <th>ElectricalEngg</th>\n",
       "      <th>TelecomEngg</th>\n",
       "      <th>CivilEngg</th>\n",
       "      <th>conscientiousness</th>\n",
       "      <th>agreeableness</th>\n",
       "      <th>extraversion</th>\n",
       "      <th>nueroticism</th>\n",
       "      <th>openess_to_experience</th>\n",
       "    </tr>\n",
       "  </thead>\n",
       "  <tbody>\n",
       "    <tr>\n",
       "      <th>train</th>\n",
       "      <td>203097</td>\n",
       "      <td>420000</td>\n",
       "      <td>2012-06-01</td>\n",
       "      <td>present</td>\n",
       "      <td>senior quality engineer</td>\n",
       "      <td>Bangalore</td>\n",
       "      <td>f</td>\n",
       "      <td>1990-02-19</td>\n",
       "      <td>84.3</td>\n",
       "      <td>board ofsecondary education,ap</td>\n",
       "      <td>...</td>\n",
       "      <td>-1</td>\n",
       "      <td>-1</td>\n",
       "      <td>-1</td>\n",
       "      <td>-1</td>\n",
       "      <td>-1</td>\n",
       "      <td>0.9737</td>\n",
       "      <td>0.8128</td>\n",
       "      <td>0.5269</td>\n",
       "      <td>1.35490</td>\n",
       "      <td>-0.4455</td>\n",
       "    </tr>\n",
       "    <tr>\n",
       "      <th>train</th>\n",
       "      <td>579905</td>\n",
       "      <td>500000</td>\n",
       "      <td>2013-09-01</td>\n",
       "      <td>present</td>\n",
       "      <td>assistant manager</td>\n",
       "      <td>Indore</td>\n",
       "      <td>m</td>\n",
       "      <td>1989-10-04</td>\n",
       "      <td>85.4</td>\n",
       "      <td>cbse</td>\n",
       "      <td>...</td>\n",
       "      <td>-1</td>\n",
       "      <td>-1</td>\n",
       "      <td>-1</td>\n",
       "      <td>-1</td>\n",
       "      <td>-1</td>\n",
       "      <td>-0.7335</td>\n",
       "      <td>0.3789</td>\n",
       "      <td>1.2396</td>\n",
       "      <td>-0.10760</td>\n",
       "      <td>0.8637</td>\n",
       "    </tr>\n",
       "    <tr>\n",
       "      <th>train</th>\n",
       "      <td>810601</td>\n",
       "      <td>325000</td>\n",
       "      <td>2014-06-01</td>\n",
       "      <td>present</td>\n",
       "      <td>systems engineer</td>\n",
       "      <td>Chennai</td>\n",
       "      <td>f</td>\n",
       "      <td>1992-08-03</td>\n",
       "      <td>85.0</td>\n",
       "      <td>cbse</td>\n",
       "      <td>...</td>\n",
       "      <td>-1</td>\n",
       "      <td>-1</td>\n",
       "      <td>-1</td>\n",
       "      <td>-1</td>\n",
       "      <td>-1</td>\n",
       "      <td>0.2718</td>\n",
       "      <td>1.7109</td>\n",
       "      <td>0.1637</td>\n",
       "      <td>-0.86820</td>\n",
       "      <td>0.6721</td>\n",
       "    </tr>\n",
       "    <tr>\n",
       "      <th>train</th>\n",
       "      <td>267447</td>\n",
       "      <td>1100000</td>\n",
       "      <td>2011-07-01</td>\n",
       "      <td>present</td>\n",
       "      <td>senior software engineer</td>\n",
       "      <td>Gurgaon</td>\n",
       "      <td>m</td>\n",
       "      <td>1989-12-05</td>\n",
       "      <td>85.6</td>\n",
       "      <td>cbse</td>\n",
       "      <td>...</td>\n",
       "      <td>-1</td>\n",
       "      <td>-1</td>\n",
       "      <td>-1</td>\n",
       "      <td>-1</td>\n",
       "      <td>-1</td>\n",
       "      <td>0.0464</td>\n",
       "      <td>0.3448</td>\n",
       "      <td>-0.3440</td>\n",
       "      <td>-0.40780</td>\n",
       "      <td>-0.9194</td>\n",
       "    </tr>\n",
       "    <tr>\n",
       "      <th>train</th>\n",
       "      <td>343523</td>\n",
       "      <td>200000</td>\n",
       "      <td>2014-03-01</td>\n",
       "      <td>2015-03-01 00:00:00</td>\n",
       "      <td>get</td>\n",
       "      <td>Manesar</td>\n",
       "      <td>m</td>\n",
       "      <td>1991-02-27</td>\n",
       "      <td>78.0</td>\n",
       "      <td>cbse</td>\n",
       "      <td>...</td>\n",
       "      <td>-1</td>\n",
       "      <td>-1</td>\n",
       "      <td>-1</td>\n",
       "      <td>-1</td>\n",
       "      <td>-1</td>\n",
       "      <td>-0.8810</td>\n",
       "      <td>-0.2793</td>\n",
       "      <td>-1.0697</td>\n",
       "      <td>0.09163</td>\n",
       "      <td>-0.1295</td>\n",
       "    </tr>\n",
       "  </tbody>\n",
       "</table>\n",
       "<p>5 rows × 38 columns</p>\n",
       "</div>"
      ],
      "text/plain": [
       "           ID   Salary        DOJ                  DOL  \\\n",
       "train  203097   420000 2012-06-01              present   \n",
       "train  579905   500000 2013-09-01              present   \n",
       "train  810601   325000 2014-06-01              present   \n",
       "train  267447  1100000 2011-07-01              present   \n",
       "train  343523   200000 2014-03-01  2015-03-01 00:00:00   \n",
       "\n",
       "                    Designation    JobCity Gender        DOB  10percentage  \\\n",
       "train   senior quality engineer  Bangalore      f 1990-02-19          84.3   \n",
       "train         assistant manager     Indore      m 1989-10-04          85.4   \n",
       "train          systems engineer    Chennai      f 1992-08-03          85.0   \n",
       "train  senior software engineer    Gurgaon      m 1989-12-05          85.6   \n",
       "train                       get    Manesar      m 1991-02-27          78.0   \n",
       "\n",
       "                              10board          ...            ComputerScience  \\\n",
       "train  board ofsecondary education,ap          ...                         -1   \n",
       "train                            cbse          ...                         -1   \n",
       "train                            cbse          ...                         -1   \n",
       "train                            cbse          ...                         -1   \n",
       "train                            cbse          ...                         -1   \n",
       "\n",
       "       MechanicalEngg ElectricalEngg  TelecomEngg  CivilEngg  \\\n",
       "train              -1             -1           -1         -1   \n",
       "train              -1             -1           -1         -1   \n",
       "train              -1             -1           -1         -1   \n",
       "train              -1             -1           -1         -1   \n",
       "train              -1             -1           -1         -1   \n",
       "\n",
       "      conscientiousness agreeableness  extraversion  nueroticism  \\\n",
       "train            0.9737        0.8128        0.5269      1.35490   \n",
       "train           -0.7335        0.3789        1.2396     -0.10760   \n",
       "train            0.2718        1.7109        0.1637     -0.86820   \n",
       "train            0.0464        0.3448       -0.3440     -0.40780   \n",
       "train           -0.8810       -0.2793       -1.0697      0.09163   \n",
       "\n",
       "       openess_to_experience  \n",
       "train                -0.4455  \n",
       "train                 0.8637  \n",
       "train                 0.6721  \n",
       "train                -0.9194  \n",
       "train                -0.1295  \n",
       "\n",
       "[5 rows x 38 columns]"
      ]
     },
     "execution_count": 4,
     "metadata": {},
     "output_type": "execute_result"
    }
   ],
   "source": [
    "dataset.head()"
   ]
  },
  {
   "cell_type": "code",
   "execution_count": 5,
   "metadata": {},
   "outputs": [
    {
     "name": "stdout",
     "output_type": "stream",
     "text": [
      "<class 'pandas.core.frame.DataFrame'>\n",
      "Index: 3998 entries, train to train\n",
      "Data columns (total 38 columns):\n",
      "ID                       3998 non-null int64\n",
      "Salary                   3998 non-null int64\n",
      "DOJ                      3998 non-null datetime64[ns]\n",
      "DOL                      3998 non-null object\n",
      "Designation              3998 non-null object\n",
      "JobCity                  3998 non-null object\n",
      "Gender                   3998 non-null object\n",
      "DOB                      3998 non-null datetime64[ns]\n",
      "10percentage             3998 non-null float64\n",
      "10board                  3998 non-null object\n",
      "12graduation             3998 non-null int64\n",
      "12percentage             3998 non-null float64\n",
      "12board                  3998 non-null object\n",
      "CollegeID                3998 non-null int64\n",
      "CollegeTier              3998 non-null int64\n",
      "Degree                   3998 non-null object\n",
      "Specialization           3998 non-null object\n",
      "collegeGPA               3998 non-null float64\n",
      "CollegeCityID            3998 non-null int64\n",
      "CollegeCityTier          3998 non-null int64\n",
      "CollegeState             3998 non-null object\n",
      "GraduationYear           3998 non-null int64\n",
      "English                  3998 non-null int64\n",
      "Logical                  3998 non-null int64\n",
      "Quant                    3998 non-null int64\n",
      "Domain                   3998 non-null float64\n",
      "ComputerProgramming      3998 non-null int64\n",
      "ElectronicsAndSemicon    3998 non-null int64\n",
      "ComputerScience          3998 non-null int64\n",
      "MechanicalEngg           3998 non-null int64\n",
      "ElectricalEngg           3998 non-null int64\n",
      "TelecomEngg              3998 non-null int64\n",
      "CivilEngg                3998 non-null int64\n",
      "conscientiousness        3998 non-null float64\n",
      "agreeableness            3998 non-null float64\n",
      "extraversion             3998 non-null float64\n",
      "nueroticism              3998 non-null float64\n",
      "openess_to_experience    3998 non-null float64\n",
      "dtypes: datetime64[ns](2), float64(9), int64(18), object(9)\n",
      "memory usage: 1.2+ MB\n"
     ]
    }
   ],
   "source": [
    "dataset.info()"
   ]
  },
  {
   "cell_type": "code",
   "execution_count": 6,
   "metadata": {},
   "outputs": [
    {
     "data": {
      "text/html": [
       "<div>\n",
       "<style scoped>\n",
       "    .dataframe tbody tr th:only-of-type {\n",
       "        vertical-align: middle;\n",
       "    }\n",
       "\n",
       "    .dataframe tbody tr th {\n",
       "        vertical-align: top;\n",
       "    }\n",
       "\n",
       "    .dataframe thead th {\n",
       "        text-align: right;\n",
       "    }\n",
       "</style>\n",
       "<table border=\"1\" class=\"dataframe\">\n",
       "  <thead>\n",
       "    <tr style=\"text-align: right;\">\n",
       "      <th></th>\n",
       "      <th>ID</th>\n",
       "      <th>Salary</th>\n",
       "      <th>10percentage</th>\n",
       "      <th>12graduation</th>\n",
       "      <th>12percentage</th>\n",
       "      <th>CollegeID</th>\n",
       "      <th>CollegeTier</th>\n",
       "      <th>collegeGPA</th>\n",
       "      <th>CollegeCityID</th>\n",
       "      <th>CollegeCityTier</th>\n",
       "      <th>...</th>\n",
       "      <th>ComputerScience</th>\n",
       "      <th>MechanicalEngg</th>\n",
       "      <th>ElectricalEngg</th>\n",
       "      <th>TelecomEngg</th>\n",
       "      <th>CivilEngg</th>\n",
       "      <th>conscientiousness</th>\n",
       "      <th>agreeableness</th>\n",
       "      <th>extraversion</th>\n",
       "      <th>nueroticism</th>\n",
       "      <th>openess_to_experience</th>\n",
       "    </tr>\n",
       "  </thead>\n",
       "  <tbody>\n",
       "    <tr>\n",
       "      <th>count</th>\n",
       "      <td>3.998000e+03</td>\n",
       "      <td>3.998000e+03</td>\n",
       "      <td>3998.000000</td>\n",
       "      <td>3998.000000</td>\n",
       "      <td>3998.000000</td>\n",
       "      <td>3998.000000</td>\n",
       "      <td>3998.000000</td>\n",
       "      <td>3998.000000</td>\n",
       "      <td>3998.000000</td>\n",
       "      <td>3998.000000</td>\n",
       "      <td>...</td>\n",
       "      <td>3998.000000</td>\n",
       "      <td>3998.000000</td>\n",
       "      <td>3998.000000</td>\n",
       "      <td>3998.000000</td>\n",
       "      <td>3998.000000</td>\n",
       "      <td>3998.000000</td>\n",
       "      <td>3998.000000</td>\n",
       "      <td>3998.000000</td>\n",
       "      <td>3998.000000</td>\n",
       "      <td>3998.000000</td>\n",
       "    </tr>\n",
       "    <tr>\n",
       "      <th>mean</th>\n",
       "      <td>6.637945e+05</td>\n",
       "      <td>3.076998e+05</td>\n",
       "      <td>77.925443</td>\n",
       "      <td>2008.087544</td>\n",
       "      <td>74.466366</td>\n",
       "      <td>5156.851426</td>\n",
       "      <td>1.925713</td>\n",
       "      <td>71.486171</td>\n",
       "      <td>5156.851426</td>\n",
       "      <td>0.300400</td>\n",
       "      <td>...</td>\n",
       "      <td>90.742371</td>\n",
       "      <td>22.974737</td>\n",
       "      <td>16.478739</td>\n",
       "      <td>31.851176</td>\n",
       "      <td>2.683842</td>\n",
       "      <td>-0.037831</td>\n",
       "      <td>0.146496</td>\n",
       "      <td>0.002763</td>\n",
       "      <td>-0.169033</td>\n",
       "      <td>-0.138110</td>\n",
       "    </tr>\n",
       "    <tr>\n",
       "      <th>std</th>\n",
       "      <td>3.632182e+05</td>\n",
       "      <td>2.127375e+05</td>\n",
       "      <td>9.850162</td>\n",
       "      <td>1.653599</td>\n",
       "      <td>10.999933</td>\n",
       "      <td>4802.261482</td>\n",
       "      <td>0.262270</td>\n",
       "      <td>8.167338</td>\n",
       "      <td>4802.261482</td>\n",
       "      <td>0.458489</td>\n",
       "      <td>...</td>\n",
       "      <td>175.273083</td>\n",
       "      <td>98.123311</td>\n",
       "      <td>87.585634</td>\n",
       "      <td>104.852845</td>\n",
       "      <td>36.658505</td>\n",
       "      <td>1.028666</td>\n",
       "      <td>0.941782</td>\n",
       "      <td>0.951471</td>\n",
       "      <td>1.007580</td>\n",
       "      <td>1.008075</td>\n",
       "    </tr>\n",
       "    <tr>\n",
       "      <th>min</th>\n",
       "      <td>1.124400e+04</td>\n",
       "      <td>3.500000e+04</td>\n",
       "      <td>43.000000</td>\n",
       "      <td>1995.000000</td>\n",
       "      <td>40.000000</td>\n",
       "      <td>2.000000</td>\n",
       "      <td>1.000000</td>\n",
       "      <td>6.450000</td>\n",
       "      <td>2.000000</td>\n",
       "      <td>0.000000</td>\n",
       "      <td>...</td>\n",
       "      <td>-1.000000</td>\n",
       "      <td>-1.000000</td>\n",
       "      <td>-1.000000</td>\n",
       "      <td>-1.000000</td>\n",
       "      <td>-1.000000</td>\n",
       "      <td>-4.126700</td>\n",
       "      <td>-5.781600</td>\n",
       "      <td>-4.600900</td>\n",
       "      <td>-2.643000</td>\n",
       "      <td>-7.375700</td>\n",
       "    </tr>\n",
       "    <tr>\n",
       "      <th>25%</th>\n",
       "      <td>3.342842e+05</td>\n",
       "      <td>1.800000e+05</td>\n",
       "      <td>71.680000</td>\n",
       "      <td>2007.000000</td>\n",
       "      <td>66.000000</td>\n",
       "      <td>494.000000</td>\n",
       "      <td>2.000000</td>\n",
       "      <td>66.407500</td>\n",
       "      <td>494.000000</td>\n",
       "      <td>0.000000</td>\n",
       "      <td>...</td>\n",
       "      <td>-1.000000</td>\n",
       "      <td>-1.000000</td>\n",
       "      <td>-1.000000</td>\n",
       "      <td>-1.000000</td>\n",
       "      <td>-1.000000</td>\n",
       "      <td>-0.713525</td>\n",
       "      <td>-0.287100</td>\n",
       "      <td>-0.604800</td>\n",
       "      <td>-0.868200</td>\n",
       "      <td>-0.669200</td>\n",
       "    </tr>\n",
       "    <tr>\n",
       "      <th>50%</th>\n",
       "      <td>6.396000e+05</td>\n",
       "      <td>3.000000e+05</td>\n",
       "      <td>79.150000</td>\n",
       "      <td>2008.000000</td>\n",
       "      <td>74.400000</td>\n",
       "      <td>3879.000000</td>\n",
       "      <td>2.000000</td>\n",
       "      <td>71.720000</td>\n",
       "      <td>3879.000000</td>\n",
       "      <td>0.000000</td>\n",
       "      <td>...</td>\n",
       "      <td>-1.000000</td>\n",
       "      <td>-1.000000</td>\n",
       "      <td>-1.000000</td>\n",
       "      <td>-1.000000</td>\n",
       "      <td>-1.000000</td>\n",
       "      <td>0.046400</td>\n",
       "      <td>0.212400</td>\n",
       "      <td>0.091400</td>\n",
       "      <td>-0.234400</td>\n",
       "      <td>-0.094300</td>\n",
       "    </tr>\n",
       "    <tr>\n",
       "      <th>75%</th>\n",
       "      <td>9.904800e+05</td>\n",
       "      <td>3.700000e+05</td>\n",
       "      <td>85.670000</td>\n",
       "      <td>2009.000000</td>\n",
       "      <td>82.600000</td>\n",
       "      <td>8818.000000</td>\n",
       "      <td>2.000000</td>\n",
       "      <td>76.327500</td>\n",
       "      <td>8818.000000</td>\n",
       "      <td>1.000000</td>\n",
       "      <td>...</td>\n",
       "      <td>-1.000000</td>\n",
       "      <td>-1.000000</td>\n",
       "      <td>-1.000000</td>\n",
       "      <td>-1.000000</td>\n",
       "      <td>-1.000000</td>\n",
       "      <td>0.702700</td>\n",
       "      <td>0.812800</td>\n",
       "      <td>0.672000</td>\n",
       "      <td>0.526200</td>\n",
       "      <td>0.502400</td>\n",
       "    </tr>\n",
       "    <tr>\n",
       "      <th>max</th>\n",
       "      <td>1.298275e+06</td>\n",
       "      <td>4.000000e+06</td>\n",
       "      <td>97.760000</td>\n",
       "      <td>2013.000000</td>\n",
       "      <td>98.700000</td>\n",
       "      <td>18409.000000</td>\n",
       "      <td>2.000000</td>\n",
       "      <td>99.930000</td>\n",
       "      <td>18409.000000</td>\n",
       "      <td>1.000000</td>\n",
       "      <td>...</td>\n",
       "      <td>715.000000</td>\n",
       "      <td>623.000000</td>\n",
       "      <td>676.000000</td>\n",
       "      <td>548.000000</td>\n",
       "      <td>516.000000</td>\n",
       "      <td>1.995300</td>\n",
       "      <td>1.904800</td>\n",
       "      <td>2.535400</td>\n",
       "      <td>3.352500</td>\n",
       "      <td>1.822400</td>\n",
       "    </tr>\n",
       "  </tbody>\n",
       "</table>\n",
       "<p>8 rows × 27 columns</p>\n",
       "</div>"
      ],
      "text/plain": [
       "                 ID        Salary  10percentage  12graduation  12percentage  \\\n",
       "count  3.998000e+03  3.998000e+03   3998.000000   3998.000000   3998.000000   \n",
       "mean   6.637945e+05  3.076998e+05     77.925443   2008.087544     74.466366   \n",
       "std    3.632182e+05  2.127375e+05      9.850162      1.653599     10.999933   \n",
       "min    1.124400e+04  3.500000e+04     43.000000   1995.000000     40.000000   \n",
       "25%    3.342842e+05  1.800000e+05     71.680000   2007.000000     66.000000   \n",
       "50%    6.396000e+05  3.000000e+05     79.150000   2008.000000     74.400000   \n",
       "75%    9.904800e+05  3.700000e+05     85.670000   2009.000000     82.600000   \n",
       "max    1.298275e+06  4.000000e+06     97.760000   2013.000000     98.700000   \n",
       "\n",
       "          CollegeID  CollegeTier   collegeGPA  CollegeCityID  CollegeCityTier  \\\n",
       "count   3998.000000  3998.000000  3998.000000    3998.000000      3998.000000   \n",
       "mean    5156.851426     1.925713    71.486171    5156.851426         0.300400   \n",
       "std     4802.261482     0.262270     8.167338    4802.261482         0.458489   \n",
       "min        2.000000     1.000000     6.450000       2.000000         0.000000   \n",
       "25%      494.000000     2.000000    66.407500     494.000000         0.000000   \n",
       "50%     3879.000000     2.000000    71.720000    3879.000000         0.000000   \n",
       "75%     8818.000000     2.000000    76.327500    8818.000000         1.000000   \n",
       "max    18409.000000     2.000000    99.930000   18409.000000         1.000000   \n",
       "\n",
       "               ...            ComputerScience  MechanicalEngg  ElectricalEngg  \\\n",
       "count          ...                3998.000000     3998.000000     3998.000000   \n",
       "mean           ...                  90.742371       22.974737       16.478739   \n",
       "std            ...                 175.273083       98.123311       87.585634   \n",
       "min            ...                  -1.000000       -1.000000       -1.000000   \n",
       "25%            ...                  -1.000000       -1.000000       -1.000000   \n",
       "50%            ...                  -1.000000       -1.000000       -1.000000   \n",
       "75%            ...                  -1.000000       -1.000000       -1.000000   \n",
       "max            ...                 715.000000      623.000000      676.000000   \n",
       "\n",
       "       TelecomEngg    CivilEngg  conscientiousness  agreeableness  \\\n",
       "count  3998.000000  3998.000000        3998.000000    3998.000000   \n",
       "mean     31.851176     2.683842          -0.037831       0.146496   \n",
       "std     104.852845    36.658505           1.028666       0.941782   \n",
       "min      -1.000000    -1.000000          -4.126700      -5.781600   \n",
       "25%      -1.000000    -1.000000          -0.713525      -0.287100   \n",
       "50%      -1.000000    -1.000000           0.046400       0.212400   \n",
       "75%      -1.000000    -1.000000           0.702700       0.812800   \n",
       "max     548.000000   516.000000           1.995300       1.904800   \n",
       "\n",
       "       extraversion  nueroticism  openess_to_experience  \n",
       "count   3998.000000  3998.000000            3998.000000  \n",
       "mean       0.002763    -0.169033              -0.138110  \n",
       "std        0.951471     1.007580               1.008075  \n",
       "min       -4.600900    -2.643000              -7.375700  \n",
       "25%       -0.604800    -0.868200              -0.669200  \n",
       "50%        0.091400    -0.234400              -0.094300  \n",
       "75%        0.672000     0.526200               0.502400  \n",
       "max        2.535400     3.352500               1.822400  \n",
       "\n",
       "[8 rows x 27 columns]"
      ]
     },
     "execution_count": 6,
     "metadata": {},
     "output_type": "execute_result"
    }
   ],
   "source": [
    "dataset.describe()"
   ]
  },
  {
   "cell_type": "code",
   "execution_count": 7,
   "metadata": {},
   "outputs": [
    {
     "data": {
      "text/plain": [
       "Index(['ID', 'Salary', 'DOJ', 'DOL', 'Designation', 'JobCity', 'Gender', 'DOB',\n",
       "       '10percentage', '10board', '12graduation', '12percentage', '12board',\n",
       "       'CollegeID', 'CollegeTier', 'Degree', 'Specialization', 'collegeGPA',\n",
       "       'CollegeCityID', 'CollegeCityTier', 'CollegeState', 'GraduationYear',\n",
       "       'English', 'Logical', 'Quant', 'Domain', 'ComputerProgramming',\n",
       "       'ElectronicsAndSemicon', 'ComputerScience', 'MechanicalEngg',\n",
       "       'ElectricalEngg', 'TelecomEngg', 'CivilEngg', 'conscientiousness',\n",
       "       'agreeableness', 'extraversion', 'nueroticism',\n",
       "       'openess_to_experience'],\n",
       "      dtype='object')"
      ]
     },
     "execution_count": 7,
     "metadata": {},
     "output_type": "execute_result"
    }
   ],
   "source": [
    "dataset.columns"
   ]
  },
  {
   "cell_type": "code",
   "execution_count": 8,
   "metadata": {},
   "outputs": [
    {
     "data": {
      "text/html": [
       "<div>\n",
       "<style scoped>\n",
       "    .dataframe tbody tr th:only-of-type {\n",
       "        vertical-align: middle;\n",
       "    }\n",
       "\n",
       "    .dataframe tbody tr th {\n",
       "        vertical-align: top;\n",
       "    }\n",
       "\n",
       "    .dataframe thead th {\n",
       "        text-align: right;\n",
       "    }\n",
       "</style>\n",
       "<table border=\"1\" class=\"dataframe\">\n",
       "  <thead>\n",
       "    <tr style=\"text-align: right;\">\n",
       "      <th></th>\n",
       "      <th>Salary</th>\n",
       "      <th>10percentage</th>\n",
       "      <th>12graduation</th>\n",
       "      <th>12percentage</th>\n",
       "      <th>CollegeTier</th>\n",
       "      <th>collegeGPA</th>\n",
       "      <th>CollegeCityTier</th>\n",
       "      <th>GraduationYear</th>\n",
       "      <th>English</th>\n",
       "      <th>Logical</th>\n",
       "      <th>...</th>\n",
       "      <th>ComputerScience</th>\n",
       "      <th>MechanicalEngg</th>\n",
       "      <th>ElectricalEngg</th>\n",
       "      <th>TelecomEngg</th>\n",
       "      <th>CivilEngg</th>\n",
       "      <th>conscientiousness</th>\n",
       "      <th>agreeableness</th>\n",
       "      <th>extraversion</th>\n",
       "      <th>nueroticism</th>\n",
       "      <th>openess_to_experience</th>\n",
       "    </tr>\n",
       "  </thead>\n",
       "  <tbody>\n",
       "    <tr>\n",
       "      <th>count</th>\n",
       "      <td>3.998000e+03</td>\n",
       "      <td>3998.000000</td>\n",
       "      <td>3998.000000</td>\n",
       "      <td>3998.000000</td>\n",
       "      <td>3998.000000</td>\n",
       "      <td>3998.000000</td>\n",
       "      <td>3998.000000</td>\n",
       "      <td>3998.000000</td>\n",
       "      <td>3998.000000</td>\n",
       "      <td>3998.000000</td>\n",
       "      <td>...</td>\n",
       "      <td>3998.000000</td>\n",
       "      <td>3998.000000</td>\n",
       "      <td>3998.000000</td>\n",
       "      <td>3998.000000</td>\n",
       "      <td>3998.000000</td>\n",
       "      <td>3998.000000</td>\n",
       "      <td>3998.000000</td>\n",
       "      <td>3998.000000</td>\n",
       "      <td>3998.000000</td>\n",
       "      <td>3998.000000</td>\n",
       "    </tr>\n",
       "    <tr>\n",
       "      <th>mean</th>\n",
       "      <td>3.076998e+05</td>\n",
       "      <td>77.925443</td>\n",
       "      <td>2008.087544</td>\n",
       "      <td>74.466366</td>\n",
       "      <td>1.925713</td>\n",
       "      <td>71.486171</td>\n",
       "      <td>0.300400</td>\n",
       "      <td>2012.105803</td>\n",
       "      <td>501.649075</td>\n",
       "      <td>501.598799</td>\n",
       "      <td>...</td>\n",
       "      <td>90.742371</td>\n",
       "      <td>22.974737</td>\n",
       "      <td>16.478739</td>\n",
       "      <td>31.851176</td>\n",
       "      <td>2.683842</td>\n",
       "      <td>-0.037831</td>\n",
       "      <td>0.146496</td>\n",
       "      <td>0.002763</td>\n",
       "      <td>-0.169033</td>\n",
       "      <td>-0.138110</td>\n",
       "    </tr>\n",
       "    <tr>\n",
       "      <th>std</th>\n",
       "      <td>2.127375e+05</td>\n",
       "      <td>9.850162</td>\n",
       "      <td>1.653599</td>\n",
       "      <td>10.999933</td>\n",
       "      <td>0.262270</td>\n",
       "      <td>8.167338</td>\n",
       "      <td>0.458489</td>\n",
       "      <td>31.857271</td>\n",
       "      <td>104.940021</td>\n",
       "      <td>86.783297</td>\n",
       "      <td>...</td>\n",
       "      <td>175.273083</td>\n",
       "      <td>98.123311</td>\n",
       "      <td>87.585634</td>\n",
       "      <td>104.852845</td>\n",
       "      <td>36.658505</td>\n",
       "      <td>1.028666</td>\n",
       "      <td>0.941782</td>\n",
       "      <td>0.951471</td>\n",
       "      <td>1.007580</td>\n",
       "      <td>1.008075</td>\n",
       "    </tr>\n",
       "    <tr>\n",
       "      <th>min</th>\n",
       "      <td>3.500000e+04</td>\n",
       "      <td>43.000000</td>\n",
       "      <td>1995.000000</td>\n",
       "      <td>40.000000</td>\n",
       "      <td>1.000000</td>\n",
       "      <td>6.450000</td>\n",
       "      <td>0.000000</td>\n",
       "      <td>0.000000</td>\n",
       "      <td>180.000000</td>\n",
       "      <td>195.000000</td>\n",
       "      <td>...</td>\n",
       "      <td>-1.000000</td>\n",
       "      <td>-1.000000</td>\n",
       "      <td>-1.000000</td>\n",
       "      <td>-1.000000</td>\n",
       "      <td>-1.000000</td>\n",
       "      <td>-4.126700</td>\n",
       "      <td>-5.781600</td>\n",
       "      <td>-4.600900</td>\n",
       "      <td>-2.643000</td>\n",
       "      <td>-7.375700</td>\n",
       "    </tr>\n",
       "    <tr>\n",
       "      <th>25%</th>\n",
       "      <td>1.800000e+05</td>\n",
       "      <td>71.680000</td>\n",
       "      <td>2007.000000</td>\n",
       "      <td>66.000000</td>\n",
       "      <td>2.000000</td>\n",
       "      <td>66.407500</td>\n",
       "      <td>0.000000</td>\n",
       "      <td>2012.000000</td>\n",
       "      <td>425.000000</td>\n",
       "      <td>445.000000</td>\n",
       "      <td>...</td>\n",
       "      <td>-1.000000</td>\n",
       "      <td>-1.000000</td>\n",
       "      <td>-1.000000</td>\n",
       "      <td>-1.000000</td>\n",
       "      <td>-1.000000</td>\n",
       "      <td>-0.713525</td>\n",
       "      <td>-0.287100</td>\n",
       "      <td>-0.604800</td>\n",
       "      <td>-0.868200</td>\n",
       "      <td>-0.669200</td>\n",
       "    </tr>\n",
       "    <tr>\n",
       "      <th>50%</th>\n",
       "      <td>3.000000e+05</td>\n",
       "      <td>79.150000</td>\n",
       "      <td>2008.000000</td>\n",
       "      <td>74.400000</td>\n",
       "      <td>2.000000</td>\n",
       "      <td>71.720000</td>\n",
       "      <td>0.000000</td>\n",
       "      <td>2013.000000</td>\n",
       "      <td>500.000000</td>\n",
       "      <td>505.000000</td>\n",
       "      <td>...</td>\n",
       "      <td>-1.000000</td>\n",
       "      <td>-1.000000</td>\n",
       "      <td>-1.000000</td>\n",
       "      <td>-1.000000</td>\n",
       "      <td>-1.000000</td>\n",
       "      <td>0.046400</td>\n",
       "      <td>0.212400</td>\n",
       "      <td>0.091400</td>\n",
       "      <td>-0.234400</td>\n",
       "      <td>-0.094300</td>\n",
       "    </tr>\n",
       "    <tr>\n",
       "      <th>75%</th>\n",
       "      <td>3.700000e+05</td>\n",
       "      <td>85.670000</td>\n",
       "      <td>2009.000000</td>\n",
       "      <td>82.600000</td>\n",
       "      <td>2.000000</td>\n",
       "      <td>76.327500</td>\n",
       "      <td>1.000000</td>\n",
       "      <td>2014.000000</td>\n",
       "      <td>570.000000</td>\n",
       "      <td>565.000000</td>\n",
       "      <td>...</td>\n",
       "      <td>-1.000000</td>\n",
       "      <td>-1.000000</td>\n",
       "      <td>-1.000000</td>\n",
       "      <td>-1.000000</td>\n",
       "      <td>-1.000000</td>\n",
       "      <td>0.702700</td>\n",
       "      <td>0.812800</td>\n",
       "      <td>0.672000</td>\n",
       "      <td>0.526200</td>\n",
       "      <td>0.502400</td>\n",
       "    </tr>\n",
       "    <tr>\n",
       "      <th>max</th>\n",
       "      <td>4.000000e+06</td>\n",
       "      <td>97.760000</td>\n",
       "      <td>2013.000000</td>\n",
       "      <td>98.700000</td>\n",
       "      <td>2.000000</td>\n",
       "      <td>99.930000</td>\n",
       "      <td>1.000000</td>\n",
       "      <td>2017.000000</td>\n",
       "      <td>875.000000</td>\n",
       "      <td>795.000000</td>\n",
       "      <td>...</td>\n",
       "      <td>715.000000</td>\n",
       "      <td>623.000000</td>\n",
       "      <td>676.000000</td>\n",
       "      <td>548.000000</td>\n",
       "      <td>516.000000</td>\n",
       "      <td>1.995300</td>\n",
       "      <td>1.904800</td>\n",
       "      <td>2.535400</td>\n",
       "      <td>3.352500</td>\n",
       "      <td>1.822400</td>\n",
       "    </tr>\n",
       "  </tbody>\n",
       "</table>\n",
       "<p>8 rows × 24 columns</p>\n",
       "</div>"
      ],
      "text/plain": [
       "             Salary  10percentage  12graduation  12percentage  CollegeTier  \\\n",
       "count  3.998000e+03   3998.000000   3998.000000   3998.000000  3998.000000   \n",
       "mean   3.076998e+05     77.925443   2008.087544     74.466366     1.925713   \n",
       "std    2.127375e+05      9.850162      1.653599     10.999933     0.262270   \n",
       "min    3.500000e+04     43.000000   1995.000000     40.000000     1.000000   \n",
       "25%    1.800000e+05     71.680000   2007.000000     66.000000     2.000000   \n",
       "50%    3.000000e+05     79.150000   2008.000000     74.400000     2.000000   \n",
       "75%    3.700000e+05     85.670000   2009.000000     82.600000     2.000000   \n",
       "max    4.000000e+06     97.760000   2013.000000     98.700000     2.000000   \n",
       "\n",
       "        collegeGPA  CollegeCityTier  GraduationYear      English      Logical  \\\n",
       "count  3998.000000      3998.000000     3998.000000  3998.000000  3998.000000   \n",
       "mean     71.486171         0.300400     2012.105803   501.649075   501.598799   \n",
       "std       8.167338         0.458489       31.857271   104.940021    86.783297   \n",
       "min       6.450000         0.000000        0.000000   180.000000   195.000000   \n",
       "25%      66.407500         0.000000     2012.000000   425.000000   445.000000   \n",
       "50%      71.720000         0.000000     2013.000000   500.000000   505.000000   \n",
       "75%      76.327500         1.000000     2014.000000   570.000000   565.000000   \n",
       "max      99.930000         1.000000     2017.000000   875.000000   795.000000   \n",
       "\n",
       "               ...            ComputerScience  MechanicalEngg  ElectricalEngg  \\\n",
       "count          ...                3998.000000     3998.000000     3998.000000   \n",
       "mean           ...                  90.742371       22.974737       16.478739   \n",
       "std            ...                 175.273083       98.123311       87.585634   \n",
       "min            ...                  -1.000000       -1.000000       -1.000000   \n",
       "25%            ...                  -1.000000       -1.000000       -1.000000   \n",
       "50%            ...                  -1.000000       -1.000000       -1.000000   \n",
       "75%            ...                  -1.000000       -1.000000       -1.000000   \n",
       "max            ...                 715.000000      623.000000      676.000000   \n",
       "\n",
       "       TelecomEngg    CivilEngg  conscientiousness  agreeableness  \\\n",
       "count  3998.000000  3998.000000        3998.000000    3998.000000   \n",
       "mean     31.851176     2.683842          -0.037831       0.146496   \n",
       "std     104.852845    36.658505           1.028666       0.941782   \n",
       "min      -1.000000    -1.000000          -4.126700      -5.781600   \n",
       "25%      -1.000000    -1.000000          -0.713525      -0.287100   \n",
       "50%      -1.000000    -1.000000           0.046400       0.212400   \n",
       "75%      -1.000000    -1.000000           0.702700       0.812800   \n",
       "max     548.000000   516.000000           1.995300       1.904800   \n",
       "\n",
       "       extraversion  nueroticism  openess_to_experience  \n",
       "count   3998.000000  3998.000000            3998.000000  \n",
       "mean       0.002763    -0.169033              -0.138110  \n",
       "std        0.951471     1.007580               1.008075  \n",
       "min       -4.600900    -2.643000              -7.375700  \n",
       "25%       -0.604800    -0.868200              -0.669200  \n",
       "50%        0.091400    -0.234400              -0.094300  \n",
       "75%        0.672000     0.526200               0.502400  \n",
       "max        2.535400     3.352500               1.822400  \n",
       "\n",
       "[8 rows x 24 columns]"
      ]
     },
     "execution_count": 8,
     "metadata": {},
     "output_type": "execute_result"
    }
   ],
   "source": [
    "#dropping the unnecessary columns\n",
    "dataset=dataset.drop(columns=['ID','CollegeCityID','CollegeID'])\n",
    "dataset.describe()"
   ]
  },
  {
   "attachments": {},
   "cell_type": "markdown",
   "metadata": {},
   "source": [
    "Most of the columns are not have outliers as their mean and median are almost equal.\n",
    "\n",
    "ComputerScience\tMechanicalEngg\tElectricalEngg\tTelecomEngg\tCivilEngg ElectronicsAndSemicon are having more number of -1 value"
   ]
  },
  {
   "cell_type": "code",
   "execution_count": 9,
   "metadata": {},
   "outputs": [
    {
     "data": {
      "text/plain": [
       "(<matplotlib.axes._subplots.AxesSubplot at 0x7f083b454b38>, -1      3956\n",
       "  356       6\n",
       "  292       6\n",
       "  388       4\n",
       "  260       3\n",
       "  320       3\n",
       "  500       2\n",
       "  300       2\n",
       "  340       2\n",
       "  200       1\n",
       "  280       1\n",
       "  322       1\n",
       "  433       1\n",
       "  380       1\n",
       "  277       1\n",
       "  400       1\n",
       "  420       1\n",
       "  440       1\n",
       "  452       1\n",
       "  460       1\n",
       "  480       1\n",
       "  516       1\n",
       "  166       1\n",
       " Name: CivilEngg, dtype: int64, 3998)"
      ]
     },
     "execution_count": 9,
     "metadata": {},
     "output_type": "execute_result"
    },
    {
     "data": {
      "image/png": "[encoded data removed]",
      "text/plain": [
       "<Figure size 1080x360 with 1 Axes>"
      ]
     },
     "metadata": {
      "needs_background": "light"
     },
     "output_type": "display_data"
    }
   ],
   "source": [
    "plt.figure(figsize=(15,5))\n",
    "plt.title(\"CivilEngg\")\n",
    "dataset.CivilEngg.value_counts().plot(kind='bar'),dataset.CivilEngg.value_counts(), len(dataset.CivilEngg)"
   ]
  },
  {
   "cell_type": "code",
   "execution_count": 10,
   "metadata": {},
   "outputs": [
    {
     "data": {
      "text/plain": [
       "(<matplotlib.axes._subplots.AxesSubplot at 0x7f083b14f2e8>, -1      3624\n",
       "  393      45\n",
       "  366      43\n",
       "  260      35\n",
       "  313      34\n",
       "  340      32\n",
       "  286      31\n",
       "  420      26\n",
       "  446      16\n",
       "  233      14\n",
       "  388      14\n",
       "  292      13\n",
       "  473      13\n",
       "  356      12\n",
       "  324      11\n",
       "  206       8\n",
       "  500       5\n",
       "  526       5\n",
       "  484       4\n",
       "  516       4\n",
       "  228       3\n",
       "  548       2\n",
       "  452       1\n",
       "  153       1\n",
       "  196       1\n",
       "  164       1\n",
       " Name: TelecomEngg, dtype: int64, 3998)"
      ]
     },
     "execution_count": 10,
     "metadata": {},
     "output_type": "execute_result"
    },
    {
     "data": {
      "image/png": "[encoded data removed]",
      "text/plain": [
       "<Figure size 1080x360 with 1 Axes>"
      ]
     },
     "metadata": {
      "needs_background": "light"
     },
     "output_type": "display_data"
    }
   ],
   "source": [
    "plt.figure(figsize=(15,5))\n",
    "plt.title(\"TelecomEngg\")\n",
    "dataset.TelecomEngg.value_counts().plot(kind='bar'),dataset.TelecomEngg.value_counts(), len(dataset.TelecomEngg)"
   ]
  },
  {
   "cell_type": "code",
   "execution_count": 11,
   "metadata": {},
   "outputs": [
    {
     "data": {
      "text/plain": [
       "(<matplotlib.axes._subplots.AxesSubplot at 0x7f083b0b2ba8>, -1      3837\n",
       "  420      16\n",
       "  446      14\n",
       "  452      10\n",
       "  473      10\n",
       "  388      10\n",
       "  356       9\n",
       "  500       8\n",
       "  580       8\n",
       "  366       7\n",
       "  324       7\n",
       "  393       7\n",
       "  313       6\n",
       "  553       6\n",
       "  516       5\n",
       "  292       4\n",
       "  260       4\n",
       "  340       3\n",
       "  228       3\n",
       "  633       3\n",
       "  484       3\n",
       "  526       3\n",
       "  548       2\n",
       "  606       2\n",
       "  612       2\n",
       "  660       2\n",
       "  286       2\n",
       "  433       2\n",
       "  676       1\n",
       "  411       1\n",
       "  206       1\n",
       " Name: ElectricalEngg, dtype: int64, 3998)"
      ]
     },
     "execution_count": 11,
     "metadata": {},
     "output_type": "execute_result"
    },
    {
     "data": {
      "image/png": "[encoded data removed]",
      "text/plain": [
       "<Figure size 1080x360 with 1 Axes>"
      ]
     },
     "metadata": {
      "needs_background": "light"
     },
     "output_type": "display_data"
    }
   ],
   "source": [
    "plt.figure(figsize=(15,5))\n",
    "plt.title(\"ElectricalEngg\")\n",
    "dataset.ElectricalEngg.value_counts().plot(kind='bar'),dataset.ElectricalEngg.value_counts(), len(dataset.ElectricalEngg)"
   ]
  },
  {
   "cell_type": "code",
   "execution_count": 12,
   "metadata": {},
   "outputs": [
    {
     "data": {
      "text/plain": [
       "(<matplotlib.axes._subplots.AxesSubplot at 0x7f083b09c160>, -1      3096\n",
       "  407     128\n",
       "  376     123\n",
       "  346     118\n",
       "  438     111\n",
       "  469      80\n",
       "  315      77\n",
       "  500      64\n",
       "  284      50\n",
       "  530      45\n",
       "  253      30\n",
       "  561      22\n",
       "  592      14\n",
       "  223      14\n",
       "  623      10\n",
       "  653       9\n",
       "  192       3\n",
       "  715       2\n",
       "  684       1\n",
       "  130       1\n",
       " Name: ComputerScience, dtype: int64, 3998)"
      ]
     },
     "execution_count": 12,
     "metadata": {},
     "output_type": "execute_result"
    },
    {
     "data": {
      "image/png": "[encoded data removed]",
      "text/plain": [
       "<Figure size 1080x360 with 1 Axes>"
      ]
     },
     "metadata": {
      "needs_background": "light"
     },
     "output_type": "display_data"
    }
   ],
   "source": [
    "plt.figure(figsize=(15,5))\n",
    "plt.title(\"ComputerScience\")\n",
    "dataset.ComputerScience.value_counts().plot(kind='bar'),dataset.ComputerScience.value_counts(), len(dataset.ComputerScience)"
   ]
  },
  {
   "cell_type": "code",
   "execution_count": 13,
   "metadata": {},
   "outputs": [
    {
     "data": {
      "text/plain": [
       "(<matplotlib.axes._subplots.AxesSubplot at 0x7f083a9b3160>, -1      3763\n",
       "  366      20\n",
       "  446      16\n",
       "  438      15\n",
       "  420      14\n",
       "  393      13\n",
       "  376      13\n",
       "  313      13\n",
       "  407      12\n",
       "  346      11\n",
       "  469      10\n",
       "  473      10\n",
       "  553       8\n",
       "  435       7\n",
       "  383       6\n",
       "  340       6\n",
       "  286       5\n",
       "  526       5\n",
       "  409       5\n",
       "  253       4\n",
       "  500       4\n",
       "  332       3\n",
       "  538       3\n",
       "  284       3\n",
       "  580       3\n",
       "  254       3\n",
       "  512       2\n",
       "  561       2\n",
       "  564       2\n",
       "  606       2\n",
       "  223       2\n",
       "  260       2\n",
       "  616       2\n",
       "  280       1\n",
       "  206       1\n",
       "  623       1\n",
       "  306       1\n",
       "  358       1\n",
       "  233       1\n",
       "  315       1\n",
       "  461       1\n",
       "  180       1\n",
       " Name: MechanicalEngg, dtype: int64, 3998)"
      ]
     },
     "execution_count": 13,
     "metadata": {},
     "output_type": "execute_result"
    },
    {
     "data": {
      "image/png": "[encoded data removed]",
      "text/plain": [
       "<Figure size 1080x360 with 1 Axes>"
      ]
     },
     "metadata": {
      "needs_background": "light"
     },
     "output_type": "display_data"
    }
   ],
   "source": [
    "plt.figure(figsize=(15,5))\n",
    "plt.title(\"MechanicalEngg\")\n",
    "dataset.MechanicalEngg.value_counts().plot(kind='bar'),dataset.MechanicalEngg.value_counts(), len(dataset.MechanicalEngg)"
   ]
  },
  {
   "cell_type": "code",
   "execution_count": 14,
   "metadata": {},
   "outputs": [
    {
     "data": {
      "text/plain": [
       "(<matplotlib.axes._subplots.AxesSubplot at 0x7f083a969a20>, -1      2854\n",
       "  333     124\n",
       "  300     114\n",
       "  366     103\n",
       "  266      88\n",
       "  400      84\n",
       "  292      74\n",
       "  356      66\n",
       "  324      66\n",
       "  233      53\n",
       "  388      47\n",
       "  433      46\n",
       "  200      43\n",
       "  260      36\n",
       "  466      31\n",
       "  452      29\n",
       "  228      24\n",
       "  500      23\n",
       "  420      22\n",
       "  196      16\n",
       "  166      12\n",
       "  484      10\n",
       "  516       9\n",
       "  533       6\n",
       "  548       5\n",
       "  566       4\n",
       "  133       4\n",
       "  164       3\n",
       "  612       2\n",
       " Name: ElectronicsAndSemicon, dtype: int64, 3998)"
      ]
     },
     "execution_count": 14,
     "metadata": {},
     "output_type": "execute_result"
    },
    {
     "data": {
      "image/png": "[encoded data removed]",
      "text/plain": [
       "<Figure size 1080x360 with 1 Axes>"
      ]
     },
     "metadata": {
      "needs_background": "light"
     },
     "output_type": "display_data"
    }
   ],
   "source": [
    "plt.figure(figsize=(15,5))\n",
    "plt.title(\"ElectronicsAndSemicon\")\n",
    "dataset.ElectronicsAndSemicon.value_counts().plot(kind='bar'),dataset.ElectronicsAndSemicon.value_counts(), len(dataset.ElectronicsAndSemicon)"
   ]
  },
  {
   "cell_type": "code",
   "execution_count": 15,
   "metadata": {},
   "outputs": [
    {
     "data": {
      "text/plain": [
       "(<matplotlib.axes._subplots.AxesSubplot at 0x7f083c11b0b8>, -1      868\n",
       "  445    151\n",
       "  435    144\n",
       "  475    139\n",
       "  465    134\n",
       "  455    131\n",
       "  395    124\n",
       "  495    120\n",
       "  485    117\n",
       "  525    114\n",
       "  425    111\n",
       "  405    111\n",
       "  415    110\n",
       "  505    102\n",
       "  375     96\n",
       "  385     93\n",
       "  515     89\n",
       "  345     86\n",
       "  535     85\n",
       "  355     84\n",
       "  335     70\n",
       "  365     69\n",
       "  555     69\n",
       "  545     62\n",
       "  575     60\n",
       "  315     60\n",
       "  565     59\n",
       "  325     49\n",
       "  305     46\n",
       "  585     43\n",
       "        ... \n",
       "  195      5\n",
       "  715      5\n",
       "  464      4\n",
       "  165      4\n",
       "  155      4\n",
       "  334      3\n",
       "  404      3\n",
       "  125      3\n",
       "  544      3\n",
       "  145      3\n",
       "  755      3\n",
       "  185      3\n",
       "  735      3\n",
       "  725      3\n",
       "  205      3\n",
       "  695      3\n",
       "  705      2\n",
       "  135      2\n",
       "  245      2\n",
       "  115      2\n",
       "  454      2\n",
       "  524      2\n",
       "  394      1\n",
       "  554      1\n",
       "  494      1\n",
       "  804      1\n",
       "  840      1\n",
       "  745      1\n",
       "  105      1\n",
       "  214      1\n",
       " Name: ComputerProgramming, Length: 79, dtype: int64, 3998)"
      ]
     },
     "execution_count": 15,
     "metadata": {},
     "output_type": "execute_result"
    },
    {
     "data": {
      "image/png": "[encoded data removed]",
      "text/plain": [
       "<Figure size 1080x360 with 1 Axes>"
      ]
     },
     "metadata": {
      "needs_background": "light"
     },
     "output_type": "display_data"
    }
   ],
   "source": [
    "plt.figure(figsize=(15,5))\n",
    "plt.title(\"ComputerProgramming\")\n",
    "dataset.ComputerProgramming.value_counts().plot(kind='bar'),dataset.ComputerProgramming.value_counts(), len(dataset.ComputerProgramming)\n"
   ]
  },
  {
   "cell_type": "code",
   "execution_count": 16,
   "metadata": {},
   "outputs": [
    {
     "data": {
      "text/plain": [
       "(array([ 0.63597876,  0.96060325,  0.45087658,  0.97439611,  0.12450207,\n",
       "        -1.        ,  0.35653649,  0.8295846 ,  0.69447933,  0.49359639,\n",
       "         0.76567358,  0.9682375 ,  0.22948175,  0.53838689,  0.30840058,\n",
       "         0.91139528,  0.56326782,  0.86468541,  0.64938971,  0.74475835,\n",
       "         0.88412251,  0.88162007,  0.20739217,  0.48674701,  0.67074315,\n",
       "         0.62264292,  0.41383826,  0.52592258,  0.73579571,  0.13044174,\n",
       "         0.23780284,  0.11213944,  0.37755142,  0.06696071,  0.08005528,\n",
       "         0.92564577,  0.84312373,  0.91686996,  0.78330354,  0.60005718,\n",
       "         0.79293628,  0.79358061,  0.16563309,  0.75537512,  0.99990456,\n",
       "         0.33878635,  0.91077016,  0.98205712,  0.84224832,  0.01854094,\n",
       "         0.05316031,  0.94211655,  0.12301673,  0.48834798,  0.37605959,\n",
       "         0.0587928 ,  0.10487136,  0.60064396,  0.70409041,  0.14478989,\n",
       "         0.81941653,  0.65576694,  0.02106623,  0.44461772,  0.83762073,\n",
       "         0.72598415,  0.95389978,  0.04099931,  0.02196911,  0.3423149 ,\n",
       "         0.53586282,  0.90148957,  0.96177212,  0.67964464,  0.93839914,\n",
       "         0.19015341,  0.99546472,  0.99000876,  0.97879929,  0.41433743,\n",
       "         0.8246664 ,  0.49063696,  0.96600692,  0.43696265,  0.99225919,\n",
       "         0.97629256,  0.98546139,  0.90915194,  0.86372418,  0.07454627,\n",
       "         0.66183448,  0.93037061,  0.95224557,  0.96090309,  0.97706647,\n",
       "         0.55738951,  0.7908818 ,  0.99966434,  0.8799152 ,  0.85882669,\n",
       "         0.97166349,  0.19376844,  0.24545566,  0.98374997,  0.98720709,\n",
       "         0.97952174,  0.86873659,  0.45901584,  0.02231329,  0.94513486,\n",
       "         0.27604723,  0.53678267,  0.4239514 ,  0.29876913,  0.20671062,\n",
       "         0.12569018,  0.16363093,  0.99138693,  0.94327216,  0.60703404,\n",
       "         0.99139758,  0.25577819,  0.96221701,  0.99123063,  0.87550391,\n",
       "         0.02331217,  0.44714789,  0.14325654,  0.84084097,  0.33618507,\n",
       "         0.30451091,  0.27925851,  0.84980271,  0.03293702,  0.65410747,\n",
       "         0.28677781,  0.21678549,  0.95868202,  0.32874638,  0.98466189,\n",
       "         0.99674449,  0.99434211,  0.70082616,  0.99887611,  0.86262547,\n",
       "         0.60553355,  0.68456507,  0.71452936,  0.44619825,  0.92514031,\n",
       "         0.99526571,  0.59828069,  0.98652502,  0.11166096,  0.11655256,\n",
       "         0.8957765 ,  0.1559085 ,  0.99764277,  0.88790332,  0.88570369,\n",
       "         0.99405087,  0.02781507,  0.90394078,  0.93174969,  0.09575376,\n",
       "         0.1925871 ,  0.99868025,  0.03114969,  0.61061199,  0.75837988,\n",
       "         0.63958738,  0.27350033,  0.0109953 ,  0.21325143,  0.99925029,\n",
       "         0.06844575,  0.04222313,  0.77657832,  0.75618011,  0.99808656,\n",
       "         0.99982917,  0.01656464,  0.00815478,  0.89984384,  0.92879365,\n",
       "         0.99769826,  0.9956138 ,  0.9788553 ,  0.03056599,  0.04219243,\n",
       "         0.18477158,  0.92460994,  0.81062051,  0.99742783,  0.66033499,\n",
       "         0.99615597,  0.99859145,  0.00275015,  0.51986392,  0.99729897,\n",
       "         0.20273159,  0.38009183,  0.52173598,  0.0139623 ,  0.24249992,\n",
       "         0.29429542,  0.4099522 ,  0.80558321,  0.24320866,  0.96532716,\n",
       "         0.4845907 ,  0.97524659,  0.1798739 ,  0.37113867,  0.86613982,\n",
       "         0.11502273,  0.99991041,  0.99179243,  0.22105882,  0.0417332 ,\n",
       "         0.06222129,  0.83968608,  0.41552456,  0.25302837,  0.99657055,\n",
       "         0.97289871,  0.99896694,  0.99391731,  0.52911566,  0.55321638,\n",
       "         0.01770484,  0.91541843,  0.2995973 ,  0.66732645,  0.27845741,\n",
       "         0.00853725,  0.99858824,  0.28278814,  0.08874741,  0.79984821,\n",
       "         0.99653553,  0.90474069,  0.93858826]), 243)"
      ]
     },
     "execution_count": 16,
     "metadata": {},
     "output_type": "execute_result"
    }
   ],
   "source": [
    "dataset.Domain.unique(),len(dataset.Domain.unique())"
   ]
  },
  {
   "cell_type": "code",
   "execution_count": 17,
   "metadata": {},
   "outputs": [
    {
     "data": {
      "text/plain": [
       "-1.000000    246\n",
       " 0.622643    113\n",
       " 0.538387    110\n",
       " 0.486747    106\n",
       " 0.376060    103\n",
       " 0.744758    103\n",
       " 0.356536    102\n",
       " 0.694479     96\n",
       " 0.824666     82\n",
       " 0.229482     81\n",
       " 0.600057     77\n",
       " 0.842248     75\n",
       " 0.735796     70\n",
       " 0.864685     69\n",
       " 0.338786     66\n",
       " 0.649390     64\n",
       " 0.765674     64\n",
       " 0.237803     62\n",
       " 0.670743     62\n",
       " 0.911395     61\n",
       " 0.819417     60\n",
       " 0.635979     59\n",
       " 0.563268     57\n",
       " 0.493596     57\n",
       " 0.793581     54\n",
       " 0.704090     53\n",
       " 0.124502     50\n",
       " 0.884123     50\n",
       " 0.450877     50\n",
       " 0.843124     47\n",
       "            ... \n",
       " 0.521736      1\n",
       " 0.553216      1\n",
       " 0.016565      1\n",
       " 0.484591      1\n",
       " 0.998591      1\n",
       " 0.415525      1\n",
       " 0.924610      1\n",
       " 0.996571      1\n",
       " 0.996536      1\n",
       " 0.010995      1\n",
       " 0.660335      1\n",
       " 0.991792      1\n",
       " 0.088747      1\n",
       " 0.041733      1\n",
       " 0.997643      1\n",
       " 0.639587      1\n",
       " 0.253028      1\n",
       " 0.997698      1\n",
       " 0.116553      1\n",
       " 0.799848      1\n",
       " 0.008537      1\n",
       " 0.938588      1\n",
       " 0.810621      1\n",
       " 0.805583      1\n",
       " 0.999664      1\n",
       " 0.887903      1\n",
       " 0.111661      1\n",
       " 0.017705      1\n",
       " 0.013962      1\n",
       " 0.972899      1\n",
       "Name: Domain, Length: 243, dtype: int64"
      ]
     },
     "execution_count": 17,
     "metadata": {},
     "output_type": "execute_result"
    }
   ],
   "source": [
    "#unique values are of 243 so printing value counts\n",
    "dataset.Domain.value_counts()"
   ]
  },
  {
   "attachments": {},
   "cell_type": "markdown",
   "metadata": {},
   "source": [
    "Observations : \n",
    "\n",
    "1.3956 values in CivilEngg are of -1 value out of 3998 = 98.94%\n",
    "\n",
    "2.3624 values in TelecomEngg are of -1 value out of 3998 = 90.64%\n",
    "\n",
    "3.3837 values in ElectricalEngg are of -1 value out of 3998 = 90.64%\n",
    "\n",
    "4.3096 values in ComputerScience are of -1 value out of 3998 = 77.43%\n",
    "\n",
    "5.3763 values in MechanicalEngg are of -1 value out of 3998 = 94.12%\n",
    "\n",
    "6.2854 values in ElectronicsAndSemicon are of -1 value out of 3998 = 71.38%\n",
    " \n",
    "7.868 values in ComputerProgramming are of -1 value out of 3998 = 21.71%\n",
    "\n",
    "Conclusions : \n",
    "1. As the -1 value in particular column is more than 70%, dropping respective columns. But need to consider them when doing analysis of graduation background employees"
   ]
  },
  {
   "cell_type": "code",
   "execution_count": 18,
   "metadata": {},
   "outputs": [
    {
     "data": {
      "text/plain": [
       "Index(['Salary', 'DOJ', 'DOL', 'Designation', 'JobCity', 'Gender', 'DOB',\n",
       "       '10percentage', '10board', '12graduation', '12percentage', '12board',\n",
       "       'CollegeTier', 'Degree', 'Specialization', 'collegeGPA',\n",
       "       'CollegeCityTier', 'CollegeState', 'GraduationYear', 'English',\n",
       "       'Logical', 'Quant', 'Domain', 'ComputerProgramming',\n",
       "       'ElectronicsAndSemicon', 'ComputerScience', 'MechanicalEngg',\n",
       "       'ElectricalEngg', 'TelecomEngg', 'CivilEngg', 'conscientiousness',\n",
       "       'agreeableness', 'extraversion', 'nueroticism',\n",
       "       'openess_to_experience'],\n",
       "      dtype='object')"
      ]
     },
     "execution_count": 18,
     "metadata": {},
     "output_type": "execute_result"
    }
   ],
   "source": [
    "dataset.columns"
   ]
  },
  {
   "cell_type": "code",
   "execution_count": 19,
   "metadata": {},
   "outputs": [],
   "source": [
    "dataset.drop(columns=['ComputerScience', 'MechanicalEngg','ElectricalEngg', 'TelecomEngg', 'CivilEngg','ElectronicsAndSemicon'],inplace=True)"
   ]
  },
  {
   "cell_type": "code",
   "execution_count": 20,
   "metadata": {},
   "outputs": [],
   "source": [
    "\n",
    "numerical_columns=['Salary',\n",
    " '10percentage',\n",
    " '12percentage',\n",
    " 'collegeGPA',\n",
    " 'English',\n",
    " 'Logical',\n",
    " 'Quant',\n",
    " 'Domain',\n",
    " 'ComputerProgramming',\n",
    " 'conscientiousness',\n",
    " 'agreeableness',\n",
    " 'extraversion',\n",
    " 'nueroticism',\n",
    " 'openess_to_experience']\n",
    "\n",
    "\n",
    "catergorical_columns=['CollegeCityTier','CollegeTier','GraduationYear','12graduation']\n",
    "\n",
    "remaining_columns=[]\n",
    "for column in dataset.columns:\n",
    "    if (column not in catergorical_columns) and (column not in numerical_columns):\n",
    "        remaining_columns.append(column)\n",
    "remaining_columns\n",
    "\n",
    "final_catergorical_columns=catergorical_columns+remaining_columns"
   ]
  },
  {
   "cell_type": "code",
   "execution_count": 21,
   "metadata": {},
   "outputs": [
    {
     "name": "stdout",
     "output_type": "stream",
     "text": [
      "14\n",
      "29\n",
      "15\n"
     ]
    }
   ],
   "source": [
    "print(len(numerical_columns))\n",
    "print(len(dataset.columns))\n",
    "print(len(final_catergorical_columns))"
   ]
  },
  {
   "cell_type": "code",
   "execution_count": 22,
   "metadata": {},
   "outputs": [
    {
     "name": "stdout",
     "output_type": "stream",
     "text": [
      "['CollegeCityTier', 'CollegeTier', 'GraduationYear', '12graduation', 'DOJ', 'DOL', 'Designation', 'JobCity', 'Gender', 'DOB', '10board', '12board', 'Degree', 'Specialization', 'CollegeState']\n"
     ]
    }
   ],
   "source": [
    "print(final_catergorical_columns)"
   ]
  },
  {
   "cell_type": "code",
   "execution_count": 23,
   "metadata": {},
   "outputs": [
    {
     "name": "stdout",
     "output_type": "stream",
     "text": [
      "<class 'pandas.core.frame.DataFrame'>\n",
      "Index: 3998 entries, train to train\n",
      "Data columns (total 29 columns):\n",
      "Salary                   3998 non-null int64\n",
      "DOJ                      3998 non-null datetime64[ns]\n",
      "DOL                      3998 non-null object\n",
      "Designation              3998 non-null object\n",
      "JobCity                  3998 non-null object\n",
      "Gender                   3998 non-null object\n",
      "DOB                      3998 non-null datetime64[ns]\n",
      "10percentage             3998 non-null float64\n",
      "10board                  3998 non-null object\n",
      "12graduation             3998 non-null int64\n",
      "12percentage             3998 non-null float64\n",
      "12board                  3998 non-null object\n",
      "CollegeTier              3998 non-null int64\n",
      "Degree                   3998 non-null object\n",
      "Specialization           3998 non-null object\n",
      "collegeGPA               3998 non-null float64\n",
      "CollegeCityTier          3998 non-null int64\n",
      "CollegeState             3998 non-null object\n",
      "GraduationYear           3998 non-null int64\n",
      "English                  3998 non-null int64\n",
      "Logical                  3998 non-null int64\n",
      "Quant                    3998 non-null int64\n",
      "Domain                   3998 non-null float64\n",
      "ComputerProgramming      3998 non-null int64\n",
      "conscientiousness        3998 non-null float64\n",
      "agreeableness            3998 non-null float64\n",
      "extraversion             3998 non-null float64\n",
      "nueroticism              3998 non-null float64\n",
      "openess_to_experience    3998 non-null float64\n",
      "dtypes: datetime64[ns](2), float64(9), int64(9), object(9)\n",
      "memory usage: 937.0+ KB\n"
     ]
    },
    {
     "data": {
      "text/html": [
       "<div>\n",
       "<style scoped>\n",
       "    .dataframe tbody tr th:only-of-type {\n",
       "        vertical-align: middle;\n",
       "    }\n",
       "\n",
       "    .dataframe tbody tr th {\n",
       "        vertical-align: top;\n",
       "    }\n",
       "\n",
       "    .dataframe thead th {\n",
       "        text-align: right;\n",
       "    }\n",
       "</style>\n",
       "<table border=\"1\" class=\"dataframe\">\n",
       "  <thead>\n",
       "    <tr style=\"text-align: right;\">\n",
       "      <th></th>\n",
       "      <th>Salary</th>\n",
       "      <th>DOJ</th>\n",
       "      <th>DOL</th>\n",
       "      <th>Designation</th>\n",
       "      <th>JobCity</th>\n",
       "      <th>Gender</th>\n",
       "      <th>DOB</th>\n",
       "      <th>10percentage</th>\n",
       "      <th>10board</th>\n",
       "      <th>12graduation</th>\n",
       "      <th>...</th>\n",
       "      <th>English</th>\n",
       "      <th>Logical</th>\n",
       "      <th>Quant</th>\n",
       "      <th>Domain</th>\n",
       "      <th>ComputerProgramming</th>\n",
       "      <th>conscientiousness</th>\n",
       "      <th>agreeableness</th>\n",
       "      <th>extraversion</th>\n",
       "      <th>nueroticism</th>\n",
       "      <th>openess_to_experience</th>\n",
       "    </tr>\n",
       "  </thead>\n",
       "  <tbody>\n",
       "    <tr>\n",
       "      <th>train</th>\n",
       "      <td>420000</td>\n",
       "      <td>2012-06-01</td>\n",
       "      <td>present</td>\n",
       "      <td>senior quality engineer</td>\n",
       "      <td>Bangalore</td>\n",
       "      <td>f</td>\n",
       "      <td>1990-02-19</td>\n",
       "      <td>84.3</td>\n",
       "      <td>board ofsecondary education,ap</td>\n",
       "      <td>2007</td>\n",
       "      <td>...</td>\n",
       "      <td>515</td>\n",
       "      <td>585</td>\n",
       "      <td>525</td>\n",
       "      <td>0.635979</td>\n",
       "      <td>445</td>\n",
       "      <td>0.9737</td>\n",
       "      <td>0.8128</td>\n",
       "      <td>0.5269</td>\n",
       "      <td>1.3549</td>\n",
       "      <td>-0.4455</td>\n",
       "    </tr>\n",
       "    <tr>\n",
       "      <th>train</th>\n",
       "      <td>500000</td>\n",
       "      <td>2013-09-01</td>\n",
       "      <td>present</td>\n",
       "      <td>assistant manager</td>\n",
       "      <td>Indore</td>\n",
       "      <td>m</td>\n",
       "      <td>1989-10-04</td>\n",
       "      <td>85.4</td>\n",
       "      <td>cbse</td>\n",
       "      <td>2007</td>\n",
       "      <td>...</td>\n",
       "      <td>695</td>\n",
       "      <td>610</td>\n",
       "      <td>780</td>\n",
       "      <td>0.960603</td>\n",
       "      <td>-1</td>\n",
       "      <td>-0.7335</td>\n",
       "      <td>0.3789</td>\n",
       "      <td>1.2396</td>\n",
       "      <td>-0.1076</td>\n",
       "      <td>0.8637</td>\n",
       "    </tr>\n",
       "  </tbody>\n",
       "</table>\n",
       "<p>2 rows × 29 columns</p>\n",
       "</div>"
      ],
      "text/plain": [
       "       Salary        DOJ      DOL              Designation    JobCity Gender  \\\n",
       "train  420000 2012-06-01  present  senior quality engineer  Bangalore      f   \n",
       "train  500000 2013-09-01  present        assistant manager     Indore      m   \n",
       "\n",
       "             DOB  10percentage                         10board  12graduation  \\\n",
       "train 1990-02-19          84.3  board ofsecondary education,ap          2007   \n",
       "train 1989-10-04          85.4                            cbse          2007   \n",
       "\n",
       "               ...            English Logical  Quant    Domain  \\\n",
       "train          ...                515     585    525  0.635979   \n",
       "train          ...                695     610    780  0.960603   \n",
       "\n",
       "      ComputerProgramming  conscientiousness  agreeableness extraversion  \\\n",
       "train                 445             0.9737         0.8128       0.5269   \n",
       "train                  -1            -0.7335         0.3789       1.2396   \n",
       "\n",
       "       nueroticism  openess_to_experience  \n",
       "train       1.3549                -0.4455  \n",
       "train      -0.1076                 0.8637  \n",
       "\n",
       "[2 rows x 29 columns]"
      ]
     },
     "execution_count": 23,
     "metadata": {},
     "output_type": "execute_result"
    }
   ],
   "source": [
    "dataset.info()\n",
    "dataset.head(2)"
   ]
  },
  {
   "cell_type": "code",
   "execution_count": 24,
   "metadata": {},
   "outputs": [],
   "source": [
    "def imputer_outlier(value,lower_bound,upper_bound,column_values):\n",
    "    column_median=column_values.median()\n",
    "    outliers=[]\n",
    "    if upper_bound>value or value<lower_bound:\n",
    "        outliers.append(value)\n",
    "        print(outliers)\n",
    "        return column_median\n",
    "    return value\n",
    "\n",
    "# initial_mean=dataset[numerical_columns[0]].mean()\n",
    "# q1,q3=dataset[numerical_columns[0]].quantile(0.25),dataset[numerical_columns[0]].quantile(0.75)\n",
    "# iqr=q3-q1\n",
    "# lower_bound=q1-(iqr*1.5)\n",
    "# upper_bound=q3+(iqr*1.5)\n",
    "# print(lower_bound,upper_bound,dataset[numerical_columns[0]].median())\n",
    "# dataset[numerical_columns[0]]=dataset[numerical_columns[0]].apply(lambda value: imputer_outlier(value,lower_bound,upper_bound,dataset[numerical_columns[0]]))\n",
    "# final_mean=dataset[numerical_columns[0]].mean()\n",
    "# print('initial_mean,final_mean',initial_mean,final_mean)"
   ]
  },
  {
   "cell_type": "code",
   "execution_count": null,
   "metadata": {},
   "outputs": [],
   "source": []
  },
  {
   "attachments": {},
   "cell_type": "markdown",
   "metadata": {},
   "source": [
    "Univariant Analysis on numerical columns"
   ]
  },
  {
   "cell_type": "code",
   "execution_count": 25,
   "metadata": {},
   "outputs": [
    {
     "data": {
      "text/plain": [
       "Index(['Salary', 'DOJ', 'DOL', 'Designation', 'JobCity', 'Gender', 'DOB',\n",
       "       '10percentage', '10board', '12graduation', '12percentage', '12board',\n",
       "       'CollegeTier', 'Degree', 'Specialization', 'collegeGPA',\n",
       "       'CollegeCityTier', 'CollegeState', 'GraduationYear', 'English',\n",
       "       'Logical', 'Quant', 'Domain', 'ComputerProgramming',\n",
       "       'conscientiousness', 'agreeableness', 'extraversion', 'nueroticism',\n",
       "       'openess_to_experience'],\n",
       "      dtype='object')"
      ]
     },
     "execution_count": 25,
     "metadata": {},
     "output_type": "execute_result"
    }
   ],
   "source": [
    "dataset.columns"
   ]
  },
  {
   "cell_type": "code",
   "execution_count": 26,
   "metadata": {},
   "outputs": [
    {
     "data": {
      "text/plain": [
       "<matplotlib.axes._subplots.AxesSubplot at 0x7f083a558e10>"
      ]
     },
     "execution_count": 26,
     "metadata": {},
     "output_type": "execute_result"
    },
    {
     "data": {
      "image/png": "[encoded data removed]",
      "text/plain": [
       "<Figure size 576x360 with 1 Axes>"
      ]
     },
     "metadata": {
      "needs_background": "light"
     },
     "output_type": "display_data"
    }
   ],
   "source": [
    "plt.figure(figsize=(8,5))\n",
    "plt.title(\"Salary\")\n",
    "dataset['Salary'].plot.kde()"
   ]
  },
  {
   "attachments": {},
   "cell_type": "markdown",
   "metadata": {},
   "source": [
    "Observation: Salary is right skewed"
   ]
  },
  {
   "cell_type": "code",
   "execution_count": 27,
   "metadata": {},
   "outputs": [
    {
     "data": {
      "text/plain": [
       "<matplotlib.axes._subplots.AxesSubplot at 0x7f0837c3f518>"
      ]
     },
     "execution_count": 27,
     "metadata": {},
     "output_type": "execute_result"
    },
    {
     "data": {
      "text/plain": [
       "<Figure size 576x360 with 0 Axes>"
      ]
     },
     "metadata": {},
     "output_type": "display_data"
    },
    {
     "data": {
      "image/png": "[encoded data removed]",
      "text/plain": [
       "<Figure size 432x288 with 1 Axes>"
      ]
     },
     "metadata": {
      "needs_background": "light"
     },
     "output_type": "display_data"
    }
   ],
   "source": [
    "plt.figure(figsize=(8,5))\n",
    "dataset[['10percentage','12percentage','collegeGPA']].plot.kde()"
   ]
  },
  {
   "attachments": {},
   "cell_type": "markdown",
   "metadata": {},
   "source": [
    "Observation: 10percentage,12percentage,collegeGPA are left skewed"
   ]
  },
  {
   "attachments": {},
   "cell_type": "markdown",
   "metadata": {},
   "source": [
    "Outlier Detection using Box Plot"
   ]
  },
  {
   "cell_type": "code",
   "execution_count": 28,
   "metadata": {},
   "outputs": [
    {
     "data": {
      "image/png": "[encoded data removed]",
      "text/plain": [
       "<Figure size 576x576 with 1 Axes>"
      ]
     },
     "metadata": {
      "needs_background": "light"
     },
     "output_type": "display_data"
    },
    {
     "data": {
      "image/png": "[encoded data removed]",
      "text/plain": [
       "<Figure size 576x576 with 1 Axes>"
      ]
     },
     "metadata": {
      "needs_background": "light"
     },
     "output_type": "display_data"
    },
    {
     "data": {
      "image/png": "[encoded data removed]",
      "text/plain": [
       "<Figure size 576x576 with 1 Axes>"
      ]
     },
     "metadata": {
      "needs_background": "light"
     },
     "output_type": "display_data"
    },
    {
     "data": {
      "image/png": "[encoded data removed]",
      "text/plain": [
       "<Figure size 576x576 with 1 Axes>"
      ]
     },
     "metadata": {
      "needs_background": "light"
     },
     "output_type": "display_data"
    },
    {
     "data": {
      "image/png": "[encoded data removed]",
      "text/plain": [
       "<Figure size 576x576 with 1 Axes>"
      ]
     },
     "metadata": {
      "needs_background": "light"
     },
     "output_type": "display_data"
    },
    {
     "data": {
      "image/png": "[encoded data removed]",
      "text/plain": [
       "<Figure size 576x576 with 1 Axes>"
      ]
     },
     "metadata": {
      "needs_background": "light"
     },
     "output_type": "display_data"
    },
    {
     "data": {
      "image/png": "[encoded data removed]",
      "text/plain": [
       "<Figure size 576x576 with 1 Axes>"
      ]
     },
     "metadata": {
      "needs_background": "light"
     },
     "output_type": "display_data"
    },
    {
     "data": {
      "image/png": "[encoded data removed]",
      "text/plain": [
       "<Figure size 576x576 with 1 Axes>"
      ]
     },
     "metadata": {
      "needs_background": "light"
     },
     "output_type": "display_data"
    },
    {
     "data": {
      "image/png": "[encoded data removed]",
      "text/plain": [
       "<Figure size 576x576 with 1 Axes>"
      ]
     },
     "metadata": {
      "needs_background": "light"
     },
     "output_type": "display_data"
    },
    {
     "data": {
      "image/png": "[encoded data removed]",
      "text/plain": [
       "<Figure size 576x576 with 1 Axes>"
      ]
     },
     "metadata": {
      "needs_background": "light"
     },
     "output_type": "display_data"
    },
    {
     "data": {
      "image/png": "[encoded data removed]",
      "text/plain": [
       "<Figure size 576x576 with 1 Axes>"
      ]
     },
     "metadata": {
      "needs_background": "light"
     },
     "output_type": "display_data"
    },
    {
     "data": {
      "image/png": "[encoded data removed]",
      "text/plain": [
       "<Figure size 576x576 with 1 Axes>"
      ]
     },
     "metadata": {
      "needs_background": "light"
     },
     "output_type": "display_data"
    },
    {
     "data": {
      "image/png": "[encoded data removed]",
      "text/plain": [
       "<Figure size 576x576 with 1 Axes>"
      ]
     },
     "metadata": {
      "needs_background": "light"
     },
     "output_type": "display_data"
    },
    {
     "data": {
      "image/png": "[encoded data removed]",
      "text/plain": [
       "<Figure size 576x576 with 1 Axes>"
      ]
     },
     "metadata": {
      "needs_background": "light"
     },
     "output_type": "display_data"
    }
   ],
   "source": [
    "for index,column_name in enumerate(numerical_columns):\n",
    "    plt.figure(figsize=(8,8))\n",
    "    plt.title(column_name)\n",
    "    dataset[numerical_columns[index]].plot(kind='box')"
   ]
  },
  {
   "cell_type": "code",
   "execution_count": 29,
   "metadata": {},
   "outputs": [
    {
     "data": {
      "text/plain": [
       "['Salary',\n",
       " '10percentage',\n",
       " '12percentage',\n",
       " 'collegeGPA',\n",
       " 'English',\n",
       " 'Logical',\n",
       " 'Quant',\n",
       " 'Domain',\n",
       " 'ComputerProgramming',\n",
       " 'conscientiousness',\n",
       " 'agreeableness',\n",
       " 'extraversion',\n",
       " 'nueroticism',\n",
       " 'openess_to_experience']"
      ]
     },
     "execution_count": 29,
     "metadata": {},
     "output_type": "execute_result"
    }
   ],
   "source": [
    "numerical_columns"
   ]
  },
  {
   "attachments": {},
   "cell_type": "markdown",
   "metadata": {},
   "source": [
    "Observation: 'Salary',\n",
    " '10percentage',\n",
    " '12percentage',\n",
    " 'collegeGPA',\n",
    " 'English',\n",
    " 'Logical',\n",
    " 'Quant',\n",
    " 'Domain',\n",
    " 'ComputerProgramming',\n",
    " 'conscientiousness',\n",
    " 'agreeableness',\n",
    " 'extraversion',\n",
    " 'nueroticism',\n",
    " 'openess_to_experience' are having outliers "
   ]
  },
  {
   "cell_type": "code",
   "execution_count": null,
   "metadata": {},
   "outputs": [],
   "source": []
  },
  {
   "cell_type": "code",
   "execution_count": 30,
   "metadata": {},
   "outputs": [],
   "source": [
    "# for index,column_name in enumerate(numerical_columns):\n",
    "#     initial_mean=dataset[numerical_columns[index]].mean()\n",
    "#     q1,q3=dataset[numerical_columns[index]].quantile(0.25),dataset[numerical_columns[index]].quantile(0.75)\n",
    "#     iqr=q3-q1\n",
    "#     lower_bound=q1-(iqr*1.5)\n",
    "#     upper_bound=q3+(iqr*1.5)\n",
    "#     print(lower_bound,upper_bound,dataset[numerical_columns[index]].median())\n",
    "#     dataset[numerical_columns[index]]=dataset[numerical_columns[index]].apply(lambda value: imputer_outlier(value,lower_bound,upper_bound,dataset[numerical_columns[0]]))\n",
    "#     final_mean=dataset[numerical_columns[index]].mean()\n",
    "#     print('initial_mean,final_mean',initial_mean,final_mean)"
   ]
  },
  {
   "cell_type": "code",
   "execution_count": 31,
   "metadata": {},
   "outputs": [],
   "source": [
    "# for index,column_name in enumerate(numerical_columns):\n",
    "#     plt.figure(figsize=(4,8))\n",
    "#     dataset[numerical_columns[index]].plot(kind='box',title=numerical_columns[index])"
   ]
  },
  {
   "cell_type": "code",
   "execution_count": 32,
   "metadata": {},
   "outputs": [
    {
     "data": {
      "text/plain": [
       "Index(['Salary', 'DOJ', 'DOL', 'Designation', 'JobCity', 'Gender', 'DOB',\n",
       "       '10percentage', '10board', '12graduation', '12percentage', '12board',\n",
       "       'CollegeTier', 'Degree', 'Specialization', 'collegeGPA',\n",
       "       'CollegeCityTier', 'CollegeState', 'GraduationYear', 'English',\n",
       "       'Logical', 'Quant', 'Domain', 'ComputerProgramming',\n",
       "       'conscientiousness', 'agreeableness', 'extraversion', 'nueroticism',\n",
       "       'openess_to_experience'],\n",
       "      dtype='object')"
      ]
     },
     "execution_count": 32,
     "metadata": {},
     "output_type": "execute_result"
    }
   ],
   "source": [
    "dataset.columns"
   ]
  },
  {
   "attachments": {},
   "cell_type": "markdown",
   "metadata": {},
   "source": [
    "Univariant analysis on Categorical data"
   ]
  },
  {
   "cell_type": "code",
   "execution_count": 33,
   "metadata": {},
   "outputs": [
    {
     "data": {
      "text/plain": [
       "['CollegeCityTier',\n",
       " 'CollegeTier',\n",
       " 'GraduationYear',\n",
       " '12graduation',\n",
       " 'DOJ',\n",
       " 'DOL',\n",
       " 'Designation',\n",
       " 'JobCity',\n",
       " 'Gender',\n",
       " 'DOB',\n",
       " '10board',\n",
       " '12board',\n",
       " 'Degree',\n",
       " 'Specialization',\n",
       " 'CollegeState']"
      ]
     },
     "execution_count": 33,
     "metadata": {},
     "output_type": "execute_result"
    }
   ],
   "source": [
    "final_catergorical_columns"
   ]
  },
  {
   "cell_type": "code",
   "execution_count": 34,
   "metadata": {},
   "outputs": [
    {
     "data": {
      "image/png": "[encoded data removed]",
      "text/plain": [
       "<Figure size 1080x360 with 1 Axes>"
      ]
     },
     "metadata": {
      "needs_background": "light"
     },
     "output_type": "display_data"
    },
    {
     "data": {
      "image/png": "[encoded data removed]",
      "text/plain": [
       "<Figure size 1080x360 with 1 Axes>"
      ]
     },
     "metadata": {
      "needs_background": "light"
     },
     "output_type": "display_data"
    },
    {
     "data": {
      "image/png": "[encoded data removed]",
      "text/plain": [
       "<Figure size 1080x360 with 1 Axes>"
      ]
     },
     "metadata": {
      "needs_background": "light"
     },
     "output_type": "display_data"
    },
    {
     "data": {
      "image/png": "[encoded data removed]",
      "text/plain": [
       "<Figure size 1080x360 with 1 Axes>"
      ]
     },
     "metadata": {
      "needs_background": "light"
     },
     "output_type": "display_data"
    },
    {
     "data": {
      "text/plain": [
       "<Figure size 1080x360 with 0 Axes>"
      ]
     },
     "metadata": {},
     "output_type": "display_data"
    },
    {
     "data": {
      "text/plain": [
       "<Figure size 1080x360 with 0 Axes>"
      ]
     },
     "metadata": {},
     "output_type": "display_data"
    },
    {
     "data": {
      "text/plain": [
       "<Figure size 1080x360 with 0 Axes>"
      ]
     },
     "metadata": {},
     "output_type": "display_data"
    },
    {
     "data": {
      "text/plain": [
       "<Figure size 1080x360 with 0 Axes>"
      ]
     },
     "metadata": {},
     "output_type": "display_data"
    },
    {
     "data": {
      "image/png": "[encoded data removed]",
      "text/plain": [
       "<Figure size 1080x360 with 1 Axes>"
      ]
     },
     "metadata": {
      "needs_background": "light"
     },
     "output_type": "display_data"
    },
    {
     "data": {
      "text/plain": [
       "<Figure size 1080x360 with 0 Axes>"
      ]
     },
     "metadata": {},
     "output_type": "display_data"
    },
    {
     "data": {
      "text/plain": [
       "<Figure size 1080x360 with 0 Axes>"
      ]
     },
     "metadata": {},
     "output_type": "display_data"
    },
    {
     "data": {
      "text/plain": [
       "<Figure size 1080x360 with 0 Axes>"
      ]
     },
     "metadata": {},
     "output_type": "display_data"
    },
    {
     "data": {
      "image/png": "[encoded data removed]",
      "text/plain": [
       "<Figure size 1080x360 with 1 Axes>"
      ]
     },
     "metadata": {
      "needs_background": "light"
     },
     "output_type": "display_data"
    },
    {
     "data": {
      "text/plain": [
       "<Figure size 1080x360 with 0 Axes>"
      ]
     },
     "metadata": {},
     "output_type": "display_data"
    },
    {
     "data": {
      "text/plain": [
       "<Figure size 1080x360 with 0 Axes>"
      ]
     },
     "metadata": {},
     "output_type": "display_data"
    }
   ],
   "source": [
    "for column_name in final_catergorical_columns:\n",
    "    plt.figure(figsize=(15,5))\n",
    "    if len(dataset[column_name].value_counts())<20:\n",
    "        plt.title(column_name)\n",
    "        dataset[column_name].value_counts().plot(kind='bar')\n",
    "        plt.show()"
   ]
  },
  {
   "attachments": {},
   "cell_type": "markdown",
   "metadata": {},
   "source": [
    "Observation:\n",
    "\n",
    "College city tier 0 are more compared to 1\n",
    "\n",
    "College tier 2 are more compared to 1\n",
    "\n",
    "2013 Graduates are more\n",
    "\n",
    "2009 Under Graduates are more\n",
    "\n",
    "Male are more\n",
    "\n",
    "People having B.Tech/B.E degree are more"
   ]
  },
  {
   "attachments": {},
   "cell_type": "markdown",
   "metadata": {},
   "source": [
    "Bivariate Analysis:\n"
   ]
  },
  {
   "cell_type": "code",
   "execution_count": 35,
   "metadata": {},
   "outputs": [
    {
     "data": {
      "text/plain": [
       "Index(['Salary', 'DOJ', 'DOL', 'Designation', 'JobCity', 'Gender', 'DOB',\n",
       "       '10percentage', '10board', '12graduation', '12percentage', '12board',\n",
       "       'CollegeTier', 'Degree', 'Specialization', 'collegeGPA',\n",
       "       'CollegeCityTier', 'CollegeState', 'GraduationYear', 'English',\n",
       "       'Logical', 'Quant', 'Domain', 'ComputerProgramming',\n",
       "       'conscientiousness', 'agreeableness', 'extraversion', 'nueroticism',\n",
       "       'openess_to_experience'],\n",
       "      dtype='object')"
      ]
     },
     "execution_count": 35,
     "metadata": {},
     "output_type": "execute_result"
    }
   ],
   "source": [
    "dataset.columns"
   ]
  },
  {
   "cell_type": "code",
   "execution_count": 36,
   "metadata": {},
   "outputs": [
    {
     "data": {
      "image/png": "[encoded data removed]",
      "text/plain": [
       "<Figure size 432x288 with 1 Axes>"
      ]
     },
     "metadata": {
      "needs_background": "light"
     },
     "output_type": "display_data"
    }
   ],
   "source": [
    "plt.scatter(dataset['12percentage'],dataset['Salary'])\n",
    "plt.xlabel(\"12percentage\")\n",
    "plt.ylabel(\"Salary\")\n",
    "plt.title('12percentage vs Salary')\n",
    "plt.show()"
   ]
  },
  {
   "attachments": {},
   "cell_type": "markdown",
   "metadata": {},
   "source": [
    "Observation : Because of the outliers present in the data, we cannot find the linear relationship. Outliers treatment is necessary"
   ]
  },
  {
   "cell_type": "code",
   "execution_count": 37,
   "metadata": {},
   "outputs": [
    {
     "data": {
      "image/png": "[encoded data removed]",
      "text/plain": [
       "<Figure size 432x288 with 1 Axes>"
      ]
     },
     "metadata": {
      "needs_background": "light"
     },
     "output_type": "display_data"
    }
   ],
   "source": [
    "plt.scatter(dataset['10percentage'],dataset['Salary'])\n",
    "plt.xlabel(\"10percentage\")\n",
    "plt.ylabel(\"Salary\")\n",
    "plt.title('10percentage vs Salary')\n",
    "plt.show()"
   ]
  },
  {
   "attachments": {},
   "cell_type": "markdown",
   "metadata": {},
   "source": [
    "Observation : Because of the outliers present in the data, we cannot find the linear relationship. Outliers treatment is necessary"
   ]
  },
  {
   "cell_type": "code",
   "execution_count": 38,
   "metadata": {},
   "outputs": [
    {
     "data": {
      "image/png": "[encoded data removed]",
      "text/plain": [
       "<Figure size 432x288 with 1 Axes>"
      ]
     },
     "metadata": {
      "needs_background": "light"
     },
     "output_type": "display_data"
    }
   ],
   "source": [
    "plt.scatter(dataset['collegeGPA'],dataset['Salary'])\n",
    "plt.xlabel(\"collegeGPA\")\n",
    "plt.ylabel(\"Salary\")\n",
    "plt.title('collegeGPA vs Salary')\n",
    "plt.show()"
   ]
  },
  {
   "attachments": {},
   "cell_type": "markdown",
   "metadata": {},
   "source": [
    "Observation : Because of the outliers present in the data, we cannot find the linear relationship. Outliers treatment is necessary. Salary of employee is more when the College GPA is more."
   ]
  },
  {
   "cell_type": "code",
   "execution_count": 39,
   "metadata": {},
   "outputs": [
    {
     "data": {
      "image/png": "[encoded data removed]",
      "text/plain": [
       "<Figure size 432x288 with 1 Axes>"
      ]
     },
     "metadata": {
      "needs_background": "light"
     },
     "output_type": "display_data"
    }
   ],
   "source": [
    "plt.scatter(dataset['Logical'],dataset['Salary'])\n",
    "plt.xlabel(\"Logical\")\n",
    "plt.ylabel(\"Salary\")\n",
    "plt.title('Logical vs Salary')\n",
    "plt.show()"
   ]
  },
  {
   "attachments": {},
   "cell_type": "markdown",
   "metadata": {},
   "source": [
    "Observation : Because of the outliers present in the data, we cannot find the linear relationship. Outliers treatment is necessary"
   ]
  },
  {
   "cell_type": "code",
   "execution_count": 40,
   "metadata": {},
   "outputs": [
    {
     "data": {
      "image/png": "[encoded data removed]",
      "text/plain": [
       "<Figure size 432x288 with 1 Axes>"
      ]
     },
     "metadata": {
      "needs_background": "light"
     },
     "output_type": "display_data"
    }
   ],
   "source": [
    "plt.scatter(dataset['Quant'],dataset['Salary'])\n",
    "plt.xlabel(\"Quant\")\n",
    "plt.ylabel(\"Salary\")\n",
    "plt.title('Quant vs Salary')\n",
    "plt.show()"
   ]
  },
  {
   "attachments": {},
   "cell_type": "markdown",
   "metadata": {},
   "source": [
    "Observation : Because of the outliers present in the data, we cannot find the linear relationship. Outliers treatment is necessary"
   ]
  },
  {
   "cell_type": "code",
   "execution_count": 41,
   "metadata": {},
   "outputs": [
    {
     "data": {
      "image/png": "[encoded data removed]",
      "text/plain": [
       "<Figure size 432x288 with 1 Axes>"
      ]
     },
     "metadata": {
      "needs_background": "light"
     },
     "output_type": "display_data"
    }
   ],
   "source": [
    "plt.scatter(dataset['Domain'],dataset['Salary'])\n",
    "plt.xlabel(\"Domain\")\n",
    "plt.ylabel(\"Salary\")\n",
    "plt.title('Domain vs Salary')\n",
    "plt.show()"
   ]
  },
  {
   "attachments": {},
   "cell_type": "markdown",
   "metadata": {},
   "source": [
    "Observation : Because of the outliers present in the data, we cannot find the linear relationship. Outliers treatment is necessary"
   ]
  },
  {
   "cell_type": "code",
   "execution_count": 42,
   "metadata": {},
   "outputs": [
    {
     "data": {
      "image/png": "[encoded data removed]",
      "text/plain": [
       "<Figure size 432x288 with 1 Axes>"
      ]
     },
     "metadata": {
      "needs_background": "light"
     },
     "output_type": "display_data"
    }
   ],
   "source": [
    "plt.scatter(dataset['English'],dataset['Quant'])\n",
    "plt.xlabel(\"English\")\n",
    "plt.ylabel(\"Quant\")\n",
    "plt.title('English vs Quant')\n",
    "plt.show()"
   ]
  },
  {
   "attachments": {},
   "cell_type": "markdown",
   "metadata": {},
   "source": [
    "There is a linear relationship between English and quant. So the person who is good at english, is also good at quant and vice versa."
   ]
  },
  {
   "cell_type": "code",
   "execution_count": 43,
   "metadata": {},
   "outputs": [
    {
     "data": {
      "image/png": "[encoded data removed]",
      "text/plain": [
       "<Figure size 432x288 with 1 Axes>"
      ]
     },
     "metadata": {
      "needs_background": "light"
     },
     "output_type": "display_data"
    }
   ],
   "source": [
    "plt.hexbin(dataset['English'],dataset['Quant'], gridsize=15, cmap=\"BuPu\")\n",
    "plt.xlabel(\"English\")\n",
    "plt.ylabel(\"Quant\")\n",
    "plt.title(\"Hexbin Plot of English and Quant\")\n",
    "plt.show()"
   ]
  },
  {
   "cell_type": "code",
   "execution_count": 44,
   "metadata": {},
   "outputs": [
    {
     "name": "stderr",
     "output_type": "stream",
     "text": [
      "/home/user/anaconda3/lib/python3.7/site-packages/scipy/stats/stats.py:1713: FutureWarning: Using a non-tuple sequence for multidimensional indexing is deprecated; use `arr[tuple(seq)]` instead of `arr[seq]`. In the future this will be interpreted as an array index, `arr[np.array(seq)]`, which will result either in an error or a different result.\n",
      "  return np.add.reduce(sorted[indexer] * weights, axis=axis) / sumval\n"
     ]
    },
    {
     "data": {
      "image/png": "[encoded data removed]",
      "text/plain": [
       "<Figure size 432x288 with 1 Axes>"
      ]
     },
     "metadata": {
      "needs_background": "light"
     },
     "output_type": "display_data"
    }
   ],
   "source": [
    "import seaborn as sns\n",
    "sns.barplot(x=\"Gender\", y=\"Salary\", data=dataset)\n",
    "plt.xticks(rotation=45)\n",
    "plt.show()\n"
   ]
  },
  {
   "attachments": {},
   "cell_type": "markdown",
   "metadata": {},
   "source": [
    "Observation : Average salary is more for male"
   ]
  },
  {
   "attachments": {},
   "cell_type": "markdown",
   "metadata": {},
   "source": [
    "Research Question - 1\n",
    "\n",
    "Times of India article dated Jan 18, 2019 states that “After doing your Computer Science\n",
    "Engineering if you take up jobs as a Programming Analyst, Software Engineer,\n",
    "Hardware Engineer and Associate Engineer you can earn up to 2.5-3 lakhs as a fresh\n",
    "graduate.” Test this claim with the data given to you."
   ]
  },
  {
   "cell_type": "code",
   "execution_count": 47,
   "metadata": {},
   "outputs": [
    {
     "name": "stdout",
     "output_type": "stream",
     "text": [
      "cannot support the claim\n"
     ]
    }
   ],
   "source": [
    "cs_df = dataset[dataset['Degree'] == 'B.Tech/B.E.']\n",
    "\n",
    "roles = ['Programming Analyst', 'Software Engineer', 'Hardware Engineer', 'Associate Engineer']\n",
    "subset_df = cs_df[cs_df['Designation'].isin(roles)]\n",
    "\n",
    "mean_salary = np.mean(subset_df['Salary'])\n",
    "\n",
    "if mean_salary >= 250000 and mean_salary <= 300000:\n",
    "    print(\"Claim\")\n",
    "else:\n",
    "    print(\"cannot support the claim\")"
   ]
  },
  {
   "attachments": {},
   "cell_type": "markdown",
   "metadata": {},
   "source": [
    "Is there a relationship between gender and specialisation? (i.e. Does the preference of\n",
    "Specialisation depend on the Gender?)"
   ]
  },
  {
   "cell_type": "code",
   "execution_count": 60,
   "metadata": {},
   "outputs": [
    {
     "data": {
      "text/html": [
       "<div>\n",
       "<style scoped>\n",
       "    .dataframe tbody tr th:only-of-type {\n",
       "        vertical-align: middle;\n",
       "    }\n",
       "\n",
       "    .dataframe tbody tr th {\n",
       "        vertical-align: top;\n",
       "    }\n",
       "\n",
       "    .dataframe thead th {\n",
       "        text-align: right;\n",
       "    }\n",
       "</style>\n",
       "<table border=\"1\" class=\"dataframe\">\n",
       "  <thead>\n",
       "    <tr style=\"text-align: right;\">\n",
       "      <th>Specialization</th>\n",
       "      <th>aeronautical engineering</th>\n",
       "      <th>applied electronics and instrumentation</th>\n",
       "      <th>automobile/automotive engineering</th>\n",
       "      <th>biomedical engineering</th>\n",
       "      <th>biotechnology</th>\n",
       "      <th>ceramic engineering</th>\n",
       "      <th>chemical engineering</th>\n",
       "      <th>civil engineering</th>\n",
       "      <th>computer and communication engineering</th>\n",
       "      <th>computer application</th>\n",
       "      <th>...</th>\n",
       "      <th>internal combustion engine</th>\n",
       "      <th>mechanical &amp; production engineering</th>\n",
       "      <th>mechanical and automation</th>\n",
       "      <th>mechanical engineering</th>\n",
       "      <th>mechatronics</th>\n",
       "      <th>metallurgical engineering</th>\n",
       "      <th>other</th>\n",
       "      <th>polymer technology</th>\n",
       "      <th>power systems and automation</th>\n",
       "      <th>telecommunication engineering</th>\n",
       "    </tr>\n",
       "    <tr>\n",
       "      <th>Gender</th>\n",
       "      <th></th>\n",
       "      <th></th>\n",
       "      <th></th>\n",
       "      <th></th>\n",
       "      <th></th>\n",
       "      <th></th>\n",
       "      <th></th>\n",
       "      <th></th>\n",
       "      <th></th>\n",
       "      <th></th>\n",
       "      <th></th>\n",
       "      <th></th>\n",
       "      <th></th>\n",
       "      <th></th>\n",
       "      <th></th>\n",
       "      <th></th>\n",
       "      <th></th>\n",
       "      <th></th>\n",
       "      <th></th>\n",
       "      <th></th>\n",
       "      <th></th>\n",
       "    </tr>\n",
       "  </thead>\n",
       "  <tbody>\n",
       "    <tr>\n",
       "      <th>f</th>\n",
       "      <td>1</td>\n",
       "      <td>2</td>\n",
       "      <td>0</td>\n",
       "      <td>2</td>\n",
       "      <td>9</td>\n",
       "      <td>0</td>\n",
       "      <td>1</td>\n",
       "      <td>6</td>\n",
       "      <td>0</td>\n",
       "      <td>59</td>\n",
       "      <td>...</td>\n",
       "      <td>0</td>\n",
       "      <td>0</td>\n",
       "      <td>0</td>\n",
       "      <td>10</td>\n",
       "      <td>1</td>\n",
       "      <td>0</td>\n",
       "      <td>0</td>\n",
       "      <td>0</td>\n",
       "      <td>0</td>\n",
       "      <td>1</td>\n",
       "    </tr>\n",
       "    <tr>\n",
       "      <th>m</th>\n",
       "      <td>2</td>\n",
       "      <td>7</td>\n",
       "      <td>5</td>\n",
       "      <td>0</td>\n",
       "      <td>6</td>\n",
       "      <td>1</td>\n",
       "      <td>8</td>\n",
       "      <td>23</td>\n",
       "      <td>1</td>\n",
       "      <td>185</td>\n",
       "      <td>...</td>\n",
       "      <td>1</td>\n",
       "      <td>1</td>\n",
       "      <td>5</td>\n",
       "      <td>191</td>\n",
       "      <td>3</td>\n",
       "      <td>2</td>\n",
       "      <td>13</td>\n",
       "      <td>1</td>\n",
       "      <td>1</td>\n",
       "      <td>5</td>\n",
       "    </tr>\n",
       "  </tbody>\n",
       "</table>\n",
       "<p>2 rows × 46 columns</p>\n",
       "</div>"
      ],
      "text/plain": [
       "Specialization  aeronautical engineering  \\\n",
       "Gender                                     \n",
       "f                                      1   \n",
       "m                                      2   \n",
       "\n",
       "Specialization  applied electronics and instrumentation  \\\n",
       "Gender                                                    \n",
       "f                                                     2   \n",
       "m                                                     7   \n",
       "\n",
       "Specialization  automobile/automotive engineering  biomedical engineering  \\\n",
       "Gender                                                                      \n",
       "f                                               0                       2   \n",
       "m                                               5                       0   \n",
       "\n",
       "Specialization  biotechnology  ceramic engineering  chemical engineering  \\\n",
       "Gender                                                                     \n",
       "f                           9                    0                     1   \n",
       "m                           6                    1                     8   \n",
       "\n",
       "Specialization  civil engineering  computer and communication engineering  \\\n",
       "Gender                                                                      \n",
       "f                               6                                       0   \n",
       "m                              23                                       1   \n",
       "\n",
       "Specialization  computer application              ...                \\\n",
       "Gender                                            ...                 \n",
       "f                                 59              ...                 \n",
       "m                                185              ...                 \n",
       "\n",
       "Specialization  internal combustion engine  \\\n",
       "Gender                                       \n",
       "f                                        0   \n",
       "m                                        1   \n",
       "\n",
       "Specialization  mechanical & production engineering  \\\n",
       "Gender                                                \n",
       "f                                                 0   \n",
       "m                                                 1   \n",
       "\n",
       "Specialization  mechanical and automation  mechanical engineering  \\\n",
       "Gender                                                              \n",
       "f                                       0                      10   \n",
       "m                                       5                     191   \n",
       "\n",
       "Specialization  mechatronics  metallurgical engineering  other  \\\n",
       "Gender                                                           \n",
       "f                          1                          0      0   \n",
       "m                          3                          2     13   \n",
       "\n",
       "Specialization  polymer technology  power systems and automation  \\\n",
       "Gender                                                             \n",
       "f                                0                             0   \n",
       "m                                1                             1   \n",
       "\n",
       "Specialization  telecommunication engineering  \n",
       "Gender                                         \n",
       "f                                           1  \n",
       "m                                           5  \n",
       "\n",
       "[2 rows x 46 columns]"
      ]
     },
     "execution_count": 60,
     "metadata": {},
     "output_type": "execute_result"
    }
   ],
   "source": [
    "contingency_table = pd.crosstab(dataset['Gender'], dataset['Specialization'])\n",
    "contingency_table"
   ]
  },
  {
   "cell_type": "code",
   "execution_count": null,
   "metadata": {},
   "outputs": [],
   "source": []
  }
 ],
 "metadata": {
  "kernelspec": {
   "display_name": "base",
   "language": "python",
   "name": "python3"
  },
  "language_info": {
   "codemirror_mode": {
    "name": "ipython",
    "version": 3
   },
   "file_extension": ".py",
   "mimetype": "text/x-python",
   "name": "python",
   "nbconvert_exporter": "python",
   "pygments_lexer": "ipython3",
   "version": "3.7.0"
  },
  "orig_nbformat": 4
 },
 "nbformat": 4,
 "nbformat_minor": 2
}
